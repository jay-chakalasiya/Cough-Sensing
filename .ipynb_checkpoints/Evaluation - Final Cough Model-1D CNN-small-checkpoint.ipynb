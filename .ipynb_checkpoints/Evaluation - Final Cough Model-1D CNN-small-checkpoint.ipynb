{
 "cells": [
  {
   "cell_type": "markdown",
   "metadata": {
    "ExecuteTime": {
     "end_time": "2021-02-08T23:52:35.642450Z",
     "start_time": "2021-02-08T23:52:35.637451Z"
    }
   },
   "source": [
    "## This COugh Model is base on the Freesound-1D CNN GlobalPool file\n",
    "\n",
    "#### here I have transfered the trained weights from that model to retrain on cough or not cough dataset\n"
   ]
  },
  {
   "cell_type": "code",
   "execution_count": 2,
   "metadata": {
    "ExecuteTime": {
     "end_time": "2021-02-09T04:31:36.640704Z",
     "start_time": "2021-02-09T04:31:36.632706Z"
    }
   },
   "outputs": [],
   "source": [
    "import pickle\n",
    "import os\n",
    "import pandas as pd\n",
    "import librosa\n",
    "import librosa.display\n",
    "import torch\n",
    "import torch.nn as nn\n",
    "from torch.utils.data import DataLoader\n",
    "import tqdm.notebook as tqdm\n",
    "from torchsummary import summary\n",
    "import torch.optim as optim\n",
    "import random"
   ]
  },
  {
   "cell_type": "markdown",
   "metadata": {},
   "source": [
    "# Model_definition and Dataloaders"
   ]
  },
  {
   "cell_type": "code",
   "execution_count": 3,
   "metadata": {
    "ExecuteTime": {
     "end_time": "2021-02-09T04:31:37.760346Z",
     "start_time": "2021-02-09T04:31:37.727356Z"
    }
   },
   "outputs": [],
   "source": [
    "class FreeSound_Sense(torch.nn.Module):\n",
    "    \n",
    "    def __init__(self):\n",
    "        super(FreeSound_Sense, self).__init__()\n",
    "        self.conv1d_1_16_9 = nn.Conv1d(in_channels=1, out_channels=16, kernel_size=9, padding=True)\n",
    "        self.conv1d_16_16_9 = nn.Conv1d(in_channels=16, out_channels=16, kernel_size=9, padding=True)\n",
    "        self.conv1d_16_32_3 = nn.Conv1d(in_channels=16, out_channels=32, kernel_size=3, padding=True)\n",
    "        self.conv1d_32_32_3 = nn.Conv1d(in_channels=32, out_channels=32, kernel_size=3, padding=True)\n",
    "        self.conv1d_32_96_3 = nn.Conv1d(in_channels=32, out_channels=96, kernel_size=3, padding=True)\n",
    "        self.conv1d_96_96_3 = nn.Conv1d(in_channels=96, out_channels=96, kernel_size=3, padding=True)\n",
    "        \n",
    "        self.maxpool_16 = nn.MaxPool1d(16)\n",
    "        self.maxpool_4 = nn.MaxPool1d(4)\n",
    "        \n",
    "        self.relu = nn.ReLU()\n",
    "        self.sigm = nn.Sigmoid()\n",
    "        self.softmax = nn.Softmax(dim=1)\n",
    "        self.dropout = nn.Dropout(0.1)\n",
    "        \n",
    "        self.fc_96_64 = nn.Linear(in_features=96, out_features=64)\n",
    "        self.fc_64_512 = nn.Linear(in_features=64, out_features=512)\n",
    "        self.fc_512_42 = nn.Linear(in_features=512, out_features=42)\n",
    "        \n",
    "        \n",
    "    def forward(self, x):\n",
    "        \n",
    "        # First Block\n",
    "        x = self.conv1d_1_16_9(x)\n",
    "        x = self.relu(x)\n",
    "        x = self.conv1d_16_16_9(x)\n",
    "        x = self.relu(x)\n",
    "        x = self.maxpool_16(x)\n",
    "        x = self.dropout(x)\n",
    "        \n",
    "        # Second Block\n",
    "        x = self.conv1d_16_32_3(x)\n",
    "        x = self.relu(x)\n",
    "        x = self.conv1d_32_32_3(x)\n",
    "        x = self.relu(x)\n",
    "        x = self.maxpool_4(x)\n",
    "        x = self.dropout(x)\n",
    "        \n",
    "        # Third Block\n",
    "        x = self.conv1d_32_32_3(x)\n",
    "        x = self.relu(x)\n",
    "        x = self.conv1d_32_32_3(x)\n",
    "        x = self.relu(x)\n",
    "        x = self.maxpool_4(x)\n",
    "        x = self.dropout(x)\n",
    "        \n",
    "        # Fourth Block\n",
    "        x = self.conv1d_32_96_3(x)\n",
    "        x = self.relu(x)\n",
    "        x = self.conv1d_96_96_3(x)\n",
    "        x = self.relu(x)\n",
    "        x = self.maxpool_4(x)\n",
    "        x = torch.mean(x, 2)\n",
    " \n",
    "        # Final Layers\n",
    "        x = torch.flatten(x, start_dim=1)\n",
    "        x = self.fc_96_64(x)\n",
    "        x = self.relu(x)\n",
    "        x = self.fc_64_512(x)\n",
    "        x = self.relu(x)\n",
    "        x = self.fc_512_42(x)\n",
    "        x = self.softmax(x)\n",
    "        \n",
    "        return x"
   ]
  },
  {
   "cell_type": "code",
   "execution_count": 4,
   "metadata": {
    "ExecuteTime": {
     "end_time": "2021-02-09T04:31:38.637064Z",
     "start_time": "2021-02-09T04:31:38.582082Z"
    }
   },
   "outputs": [],
   "source": [
    "def audio_norm(data):\n",
    "    max_data = np.max(data)\n",
    "    min_data = np.min(data)\n",
    "    data = (data-min_data)/(max_data-min_data+1e-6)\n",
    "    return data-0.5\n",
    "\n",
    "def load_audio_file(file_path, input_length=4096):\n",
    "    \n",
    "    if file_path not in Loaded_data:\n",
    "        data = librosa.core.load(file_path, sr=None) \n",
    "        data = librosa.core.resample(data[0], data[1], 11025)\n",
    "        Loaded_data[file_path] = data\n",
    "    else:\n",
    "        data = Loaded_data[file_path]\n",
    "    \n",
    "    if len(data)>input_length:\n",
    "        max_offset = len(data)-input_length\n",
    "        offset = np.random.randint(max_offset)\n",
    "        data = data[offset:input_length+offset]\n",
    "        \n",
    "    else:\n",
    "        T = np.zeros(input_length, dtype=float)\n",
    "        T[:len(data)] = data\n",
    "        data = T\n",
    "       \n",
    "    data = audio_norm(data)\n",
    "    return np.array([data])\n",
    "\n",
    "class CoughDataset(torch.utils.data.Dataset):\n",
    "    def __init__(self, cough_data_path, non_cough_data_path, train=True, split = 0.8, seed=1):\n",
    "        \n",
    "        # Load Data\n",
    "        self.input_length = 4096\n",
    "        self.cough_data = pickle.load(open(cough_data_path, 'rb'))\n",
    "        self.keys = list(self.cough_data.keys())\n",
    "        self.non_cough_df = pd.read_csv(non_cough_data_path)\n",
    "        \n",
    "        # set Seed\n",
    "        random.seed(seed)\n",
    "        \n",
    "        # shuffle Data\n",
    "        random.shuffle(self.keys)\n",
    "        \n",
    "        self.non_cough_data = pd.read_csv(non_cough_data_path)\n",
    "        self.non_cough_data = self.non_cough_data[self.non_cough_data.label!='Cough'][:len(self.keys)]\n",
    "        \n",
    "        # split Data\n",
    "        if train:\n",
    "            self.keys = self.keys[:int(len(self.keys)*split)]\n",
    "            self.non_cough_data = self.non_cough_data[:int(len(self.keys)*split)]\n",
    "        else:\n",
    "            self.keys = self.keys[int(len(self.keys)*split):]\n",
    "            self.non_cough_data = self.non_cough_data[int(len(self.keys)*split):]\n",
    "        \n",
    "        self.non_cough_idx = 0\n",
    "        self.cough_idx = 0\n",
    "        self.max_len = len(self.keys)\n",
    "\n",
    "    def __len__(self):\n",
    "        return len(self.keys)*2\n",
    "    \n",
    "    def __getitem__(self, idx):\n",
    "        \n",
    "        # rnadomly select positive of negetaive instannce\n",
    "        if random.choice([False, True]):\n",
    "            non_cough_file_path = 'data/freesound-audio-tagging/audio_train/' + list(self.non_cough_df[self.non_cough_idx: self.non_cough_idx+1].fname)[0]\n",
    "            self.non_cough_idx = 0 if self.non_cough_idx+1>=self.max_len else self.non_cough_idx+1\n",
    "            return load_audio_file(non_cough_file_path), 0\n",
    "        \n",
    "        else:\n",
    "            cough_data_base = np.zeros(self.input_length)\n",
    "            cough_data_instance = self.cough_data[self.keys[self.cough_idx]]\n",
    "            self.cough_idx = 0 if self.cough_idx+1>=self.max_len else self.cough_idx+1\n",
    "            \n",
    "            instance_length = len(cough_data_instance)\n",
    "            \n",
    "            if instance_length/self.input_length < 1:\n",
    "                start_idx =  int(self.input_length/2 - int(instance_length/2))\n",
    "                cough_data_base[start_idx:instance_length+start_idx] = cough_data_instance\n",
    "            \n",
    "            else:\n",
    "                start_idx = int(instance_length/2)-int(self.input_length/2)\n",
    "                cough_data_base = cough_data_instance[start_idx: start_idx+self.input_length]\n",
    "            \n",
    "            return np.array([audio_norm(cough_data_base)]), 1\n",
    "                "
   ]
  },
  {
   "cell_type": "markdown",
   "metadata": {},
   "source": [
    "# Loading Data"
   ]
  },
  {
   "cell_type": "code",
   "execution_count": 5,
   "metadata": {
    "ExecuteTime": {
     "end_time": "2021-02-09T04:31:42.654777Z",
     "start_time": "2021-02-09T04:31:39.856675Z"
    }
   },
   "outputs": [],
   "source": [
    "# Load Non-cough samples at 11025Hz\n",
    "Loaded_data = {}\n",
    "if os.path.exists('data/freesound-audio-tagging/free_sound_11025.pkl'):\n",
    "    Loaded_data = pickle.load(open('data/freesound-audio-tagging/free_sound_11025.pkl', 'rb'))\n",
    "\n",
    "# non Cough csv for the filenames\n",
    "data_non_cough_instance_csv_path = 'data/freesound-audio-tagging/train.csv'\n",
    "    \n",
    "# COugh instance_data file path\n",
    "data_cough_instances_path = 'data/collected/data/collected_data_11025.pkl'\n",
    "\n",
    "\n",
    "Cough_Data = CoughDataset(data_cough_instances_path, data_non_cough_instance_csv_path)\n",
    "mini_batch_size = 64\n",
    "Cough_Dataloader = DataLoader(Cough_Data, batch_size=mini_batch_size, shuffle=True)"
   ]
  },
  {
   "cell_type": "markdown",
   "metadata": {},
   "source": [
    "# Loading Weights"
   ]
  },
  {
   "cell_type": "code",
   "execution_count": 6,
   "metadata": {
    "ExecuteTime": {
     "end_time": "2021-02-09T04:32:00.743981Z",
     "start_time": "2021-02-09T04:31:48.964758Z"
    }
   },
   "outputs": [
    {
     "name": "stdout",
     "output_type": "stream",
     "text": [
      "----------------------------------------------------------------\n",
      "        Layer (type)               Output Shape         Param #\n",
      "================================================================\n",
      "            Conv1d-1             [-1, 16, 4090]             160\n",
      "              ReLU-2             [-1, 16, 4090]               0\n",
      "            Conv1d-3             [-1, 16, 4084]           2,320\n",
      "              ReLU-4             [-1, 16, 4084]               0\n",
      "         MaxPool1d-5              [-1, 16, 255]               0\n",
      "           Dropout-6              [-1, 16, 255]               0\n",
      "            Conv1d-7              [-1, 32, 255]           1,568\n",
      "              ReLU-8              [-1, 32, 255]               0\n",
      "            Conv1d-9              [-1, 32, 255]           3,104\n",
      "             ReLU-10              [-1, 32, 255]               0\n",
      "        MaxPool1d-11               [-1, 32, 63]               0\n",
      "          Dropout-12               [-1, 32, 63]               0\n",
      "           Conv1d-13               [-1, 32, 63]           3,104\n",
      "             ReLU-14               [-1, 32, 63]               0\n",
      "           Conv1d-15               [-1, 32, 63]           3,104\n",
      "             ReLU-16               [-1, 32, 63]               0\n",
      "        MaxPool1d-17               [-1, 32, 15]               0\n",
      "          Dropout-18               [-1, 32, 15]               0\n",
      "           Conv1d-19               [-1, 96, 15]           9,312\n",
      "             ReLU-20               [-1, 96, 15]               0\n",
      "           Conv1d-21               [-1, 96, 15]          27,744\n",
      "             ReLU-22               [-1, 96, 15]               0\n",
      "        MaxPool1d-23                [-1, 96, 3]               0\n",
      "           Linear-24                   [-1, 64]           6,208\n",
      "             ReLU-25                   [-1, 64]               0\n",
      "           Linear-26                  [-1, 512]          33,280\n",
      "             ReLU-27                  [-1, 512]               0\n",
      "           Linear-28                    [-1, 2]           1,026\n",
      "          Softmax-29                    [-1, 2]               0\n",
      "================================================================\n",
      "Total params: 90,930\n",
      "Trainable params: 90,930\n",
      "Non-trainable params: 0\n",
      "----------------------------------------------------------------\n",
      "Input size (MB): 0.02\n",
      "Forward/backward pass size (MB): 2.46\n",
      "Params size (MB): 0.35\n",
      "Estimated Total Size (MB): 2.82\n",
      "----------------------------------------------------------------\n"
     ]
    }
   ],
   "source": [
    "device = torch.device(\"cuda\" if torch.cuda.is_available() else \"cpu\")\n",
    "Model = FreeSound_Sense()\n",
    "Model.fc_512_42 = nn.Linear(in_features=512, out_features=2)\n",
    "Model.load_state_dict(torch.load(\"model_weights/Cough_Data_1D_conv_small_3_epoch_80Acc.stDict\"))\n",
    "Model.float()\n",
    "Model.to(device)\n",
    "summary(Model, (1, 4096))"
   ]
  },
  {
   "cell_type": "markdown",
   "metadata": {},
   "source": [
    "# Evaluation"
   ]
  },
  {
   "cell_type": "code",
   "execution_count": 7,
   "metadata": {
    "ExecuteTime": {
     "end_time": "2021-02-09T04:32:12.440233Z",
     "start_time": "2021-02-09T04:32:06.510132Z"
    }
   },
   "outputs": [
    {
     "data": {
      "application/vnd.jupyter.widget-view+json": {
       "model_id": "0782604c6dae46b3bf6664741649a632",
       "version_major": 2,
       "version_minor": 0
      },
      "text/plain": [
       "HBox(children=(IntProgress(value=0, max=182), HTML(value='')))"
      ]
     },
     "metadata": {},
     "output_type": "display_data"
    },
    {
     "name": "stdout",
     "output_type": "stream",
     "text": [
      "\n",
      "Valid Acc  80.45157967032966\n"
     ]
    }
   ],
   "source": [
    "device = torch.device(\"cuda:0\" if torch.cuda.is_available() else \"cpu\")\n",
    "Model.to(device)\n",
    "Model.eval()\n",
    "\n",
    "data_progress_bar = tqdm.tqdm(Cough_Dataloader)\n",
    "positives=0\n",
    "for data, targets in data_progress_bar:\n",
    "    data = data.float().to(device)\n",
    "    targets = targets.numpy()\n",
    "    \n",
    "    outputs = Model(data)\n",
    "    outputs = np.argmax(outputs.detach().cpu().numpy(), axis=1)\n",
    "    \n",
    "    positives += np.sum(targets==outputs)\n",
    "\n",
    "print('Valid Acc ', str(positives*100/(len(Cough_Dataloader)*mini_batch_size)))"
   ]
  },
  {
   "cell_type": "code",
   "execution_count": null,
   "metadata": {},
   "outputs": [],
   "source": []
  }
 ],
 "metadata": {
  "kernelspec": {
   "display_name": "Python 3",
   "language": "python",
   "name": "python3"
  },
  "language_info": {
   "codemirror_mode": {
    "name": "ipython",
    "version": 3
   },
   "file_extension": ".py",
   "mimetype": "text/x-python",
   "name": "python",
   "nbconvert_exporter": "python",
   "pygments_lexer": "ipython3",
   "version": "3.7.4"
  },
  "toc": {
   "base_numbering": 1,
   "nav_menu": {},
   "number_sections": true,
   "sideBar": true,
   "skip_h1_title": false,
   "title_cell": "Table of Contents",
   "title_sidebar": "Contents",
   "toc_cell": false,
   "toc_position": {},
   "toc_section_display": true,
   "toc_window_display": false
  },
  "varInspector": {
   "cols": {
    "lenName": 16,
    "lenType": 16,
    "lenVar": 40
   },
   "kernels_config": {
    "python": {
     "delete_cmd_postfix": "",
     "delete_cmd_prefix": "del ",
     "library": "var_list.py",
     "varRefreshCmd": "print(var_dic_list())"
    },
    "r": {
     "delete_cmd_postfix": ") ",
     "delete_cmd_prefix": "rm(",
     "library": "var_list.r",
     "varRefreshCmd": "cat(var_dic_list()) "
    }
   },
   "types_to_exclude": [
    "module",
    "function",
    "builtin_function_or_method",
    "instance",
    "_Feature"
   ],
   "window_display": false
  }
 },
 "nbformat": 4,
 "nbformat_minor": 2
}
