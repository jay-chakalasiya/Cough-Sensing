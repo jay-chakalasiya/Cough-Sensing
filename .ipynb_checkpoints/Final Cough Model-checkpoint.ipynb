{
 "cells": [
  {
   "cell_type": "code",
   "execution_count": null,
   "metadata": {
    "ExecuteTime": {
     "end_time": "2021-02-08T19:06:11.641562Z",
     "start_time": "2021-02-08T18:45:55.233Z"
    }
   },
   "outputs": [],
   "source": [
    "# This COugh Model is base on the Freesound-GlobalPool-Deep-BatchNorm file\n",
    "\n",
    "# here I have transfered the trained weights from that model to retrain on cough or not cough dataset\n"
   ]
  },
  {
   "cell_type": "code",
   "execution_count": null,
   "metadata": {
    "ExecuteTime": {
     "end_time": "2021-02-08T19:06:11.618575Z",
     "start_time": "2021-02-08T18:45:19.000Z"
    }
   },
   "outputs": [],
   "source": [
    "import os\n",
    "import pandas as pd\n",
    "import librosa\n",
    "import librosa.display\n",
    "import torch\n",
    "import torch.nn as nn\n",
    "from torch.utils.data import DataLoader\n",
    "import tqdm.notebook as tqdm\n",
    "from torchsummary import summary\n",
    "import torch.optim as optim\n",
    "import random\n",
    "os.listdir('data/collected/')"
   ]
  },
  {
   "cell_type": "code",
   "execution_count": 11,
   "metadata": {
    "ExecuteTime": {
     "end_time": "2021-02-08T05:16:35.754378Z",
     "start_time": "2021-02-08T05:16:35.734384Z"
    }
   },
   "outputs": [
    {
     "data": {
      "text/html": [
       "<div>\n",
       "<style scoped>\n",
       "    .dataframe tbody tr th:only-of-type {\n",
       "        vertical-align: middle;\n",
       "    }\n",
       "\n",
       "    .dataframe tbody tr th {\n",
       "        vertical-align: top;\n",
       "    }\n",
       "\n",
       "    .dataframe thead th {\n",
       "        text-align: right;\n",
       "    }\n",
       "</style>\n",
       "<table border=\"1\" class=\"dataframe\">\n",
       "  <thead>\n",
       "    <tr style=\"text-align: right;\">\n",
       "      <th></th>\n",
       "      <th>index</th>\n",
       "      <th>user_name</th>\n",
       "      <th>type_dir</th>\n",
       "      <th>directory</th>\n",
       "      <th>filename</th>\n",
       "      <th>times</th>\n",
       "    </tr>\n",
       "  </thead>\n",
       "  <tbody>\n",
       "    <tr>\n",
       "      <td>0</td>\n",
       "      <td>1</td>\n",
       "      <td>sample_¦-¦ú++</td>\n",
       "      <td>quiet</td>\n",
       "      <td>cough</td>\n",
       "      <td>ZOOM0123_LR/Tr1/Tr2/Tr3.WAV</td>\n",
       "      <td>1.6 1.8 3.6 4.0 6.1 6.6 9.1 9.5 11.9 12.3 14.9...</td>\n",
       "    </tr>\n",
       "    <tr>\n",
       "      <td>1</td>\n",
       "      <td>2</td>\n",
       "      <td>sample_¦-¦ú++</td>\n",
       "      <td>quiet</td>\n",
       "      <td>continuous_cough</td>\n",
       "      <td>ZOOM0124_LR/Tr1/Tr2/Tr3.WAV</td>\n",
       "      <td>2.2 3.2 5.4 6.5 9.4 10.5 13.0 14.2 16.6 17.7 2...</td>\n",
       "    </tr>\n",
       "    <tr>\n",
       "      <td>2</td>\n",
       "      <td>3</td>\n",
       "      <td>sample_¦-¦ú++</td>\n",
       "      <td>quiet</td>\n",
       "      <td>throat_clear</td>\n",
       "      <td>ZOOM0125_LR/Tr1/Tr2/Tr3.WAV</td>\n",
       "      <td>1.8 2.2 4.2 4.6 7.2 7.6 10.0 10.4 12.9 13.3 15...</td>\n",
       "    </tr>\n",
       "    <tr>\n",
       "      <td>3</td>\n",
       "      <td>4</td>\n",
       "      <td>sample_¦-¦ú++</td>\n",
       "      <td>partitially_noisy</td>\n",
       "      <td>cough</td>\n",
       "      <td>ZOOM0120_LR/Tr1/Tr2/Tr3.WAV</td>\n",
       "      <td>1.2 1.5 3.2 3.5 5.8 6.2 8.3 8.6 10.9 11.2 13.3...</td>\n",
       "    </tr>\n",
       "    <tr>\n",
       "      <td>4</td>\n",
       "      <td>5</td>\n",
       "      <td>sample_¦-¦ú++</td>\n",
       "      <td>partitially_noisy</td>\n",
       "      <td>continuous_cough</td>\n",
       "      <td>ZOOM0121_LR/Tr1/Tr2/Tr3.WAV</td>\n",
       "      <td>1.2 2.1 3.9 4.8 7.3 8.3 10.6 11.6 14.4 15.5 18...</td>\n",
       "    </tr>\n",
       "    <tr>\n",
       "      <td>...</td>\n",
       "      <td>...</td>\n",
       "      <td>...</td>\n",
       "      <td>...</td>\n",
       "      <td>...</td>\n",
       "      <td>...</td>\n",
       "      <td>...</td>\n",
       "    </tr>\n",
       "    <tr>\n",
       "      <td>175</td>\n",
       "      <td>176</td>\n",
       "      <td>sample_++¦++e-¦</td>\n",
       "      <td>partitially_noisy</td>\n",
       "      <td>continuous_cough</td>\n",
       "      <td>ZOOM0028_LR/Tr1/Tr2/Tr3.WAV</td>\n",
       "      <td>1.6 2.4 4.6 5.7 9.2 10.5 13.8 14.5 18.1 18.8 2...</td>\n",
       "    </tr>\n",
       "    <tr>\n",
       "      <td>176</td>\n",
       "      <td>177</td>\n",
       "      <td>sample_++¦++e-¦</td>\n",
       "      <td>partitially_noisy</td>\n",
       "      <td>throat_clear</td>\n",
       "      <td>ZOOM0029_LR/Tr1/Tr2/Tr3.WAV</td>\n",
       "      <td>1.1 1.7 4.4 4.8 7.6 8.2 16.7 17.2 23.2 23.5 28...</td>\n",
       "    </tr>\n",
       "    <tr>\n",
       "      <td>177</td>\n",
       "      <td>178</td>\n",
       "      <td>sample_++¦++e-¦</td>\n",
       "      <td>noisy</td>\n",
       "      <td>cough</td>\n",
       "      <td>ZOOM0023_LR/Tr1/Tr2/Tr3.WAV</td>\n",
       "      <td>1.5 1.9 6.7 7.2 12.3 12.6 18.4 18.8 23.2 23.6 ...</td>\n",
       "    </tr>\n",
       "    <tr>\n",
       "      <td>178</td>\n",
       "      <td>179</td>\n",
       "      <td>sample_++¦++e-¦</td>\n",
       "      <td>noisy</td>\n",
       "      <td>continuous_cough</td>\n",
       "      <td>ZOOM0024_LR/Tr1/Tr2/Tr3.WAV</td>\n",
       "      <td>0.9 2.0 3.9 5.4 8.4 9.0 11.7 12.9 15.9 17.1 24...</td>\n",
       "    </tr>\n",
       "    <tr>\n",
       "      <td>179</td>\n",
       "      <td>180</td>\n",
       "      <td>sample_++¦++e-¦</td>\n",
       "      <td>noisy</td>\n",
       "      <td>throat_clear</td>\n",
       "      <td>ZOOM0025_LR/Tr1/Tr2/Tr3.WAV</td>\n",
       "      <td>1.2 1.7 4.7 5.3 8.3 9.0 17.8 18.3 25.0 25.5 31...</td>\n",
       "    </tr>\n",
       "  </tbody>\n",
       "</table>\n",
       "<p>180 rows × 6 columns</p>\n",
       "</div>"
      ],
      "text/plain": [
       "     index        user_name           type_dir         directory  \\\n",
       "0        1    sample_¦-¦ú++              quiet             cough   \n",
       "1        2    sample_¦-¦ú++              quiet  continuous_cough   \n",
       "2        3    sample_¦-¦ú++              quiet      throat_clear   \n",
       "3        4    sample_¦-¦ú++  partitially_noisy             cough   \n",
       "4        5    sample_¦-¦ú++  partitially_noisy  continuous_cough   \n",
       "..     ...              ...                ...               ...   \n",
       "175    176  sample_++¦++e-¦  partitially_noisy  continuous_cough   \n",
       "176    177  sample_++¦++e-¦  partitially_noisy      throat_clear   \n",
       "177    178  sample_++¦++e-¦              noisy             cough   \n",
       "178    179  sample_++¦++e-¦              noisy  continuous_cough   \n",
       "179    180  sample_++¦++e-¦              noisy      throat_clear   \n",
       "\n",
       "                        filename  \\\n",
       "0    ZOOM0123_LR/Tr1/Tr2/Tr3.WAV   \n",
       "1    ZOOM0124_LR/Tr1/Tr2/Tr3.WAV   \n",
       "2    ZOOM0125_LR/Tr1/Tr2/Tr3.WAV   \n",
       "3    ZOOM0120_LR/Tr1/Tr2/Tr3.WAV   \n",
       "4    ZOOM0121_LR/Tr1/Tr2/Tr3.WAV   \n",
       "..                           ...   \n",
       "175  ZOOM0028_LR/Tr1/Tr2/Tr3.WAV   \n",
       "176  ZOOM0029_LR/Tr1/Tr2/Tr3.WAV   \n",
       "177  ZOOM0023_LR/Tr1/Tr2/Tr3.WAV   \n",
       "178  ZOOM0024_LR/Tr1/Tr2/Tr3.WAV   \n",
       "179  ZOOM0025_LR/Tr1/Tr2/Tr3.WAV   \n",
       "\n",
       "                                                 times  \n",
       "0    1.6 1.8 3.6 4.0 6.1 6.6 9.1 9.5 11.9 12.3 14.9...  \n",
       "1    2.2 3.2 5.4 6.5 9.4 10.5 13.0 14.2 16.6 17.7 2...  \n",
       "2    1.8 2.2 4.2 4.6 7.2 7.6 10.0 10.4 12.9 13.3 15...  \n",
       "3    1.2 1.5 3.2 3.5 5.8 6.2 8.3 8.6 10.9 11.2 13.3...  \n",
       "4    1.2 2.1 3.9 4.8 7.3 8.3 10.6 11.6 14.4 15.5 18...  \n",
       "..                                                 ...  \n",
       "175  1.6 2.4 4.6 5.7 9.2 10.5 13.8 14.5 18.1 18.8 2...  \n",
       "176  1.1 1.7 4.4 4.8 7.6 8.2 16.7 17.2 23.2 23.5 28...  \n",
       "177  1.5 1.9 6.7 7.2 12.3 12.6 18.4 18.8 23.2 23.6 ...  \n",
       "178  0.9 2.0 3.9 5.4 8.4 9.0 11.7 12.9 15.9 17.1 24...  \n",
       "179  1.2 1.7 4.7 5.3 8.3 9.0 17.8 18.3 25.0 25.5 31...  \n",
       "\n",
       "[180 rows x 6 columns]"
      ]
     },
     "execution_count": 11,
     "metadata": {},
     "output_type": "execute_result"
    }
   ],
   "source": [
    "df = pd.read_csv('data/collected/Annotations.csv')\n",
    "df"
   ]
  },
  {
   "cell_type": "code",
   "execution_count": 49,
   "metadata": {
    "ExecuteTime": {
     "end_time": "2021-02-08T06:04:31.312514Z",
     "start_time": "2021-02-08T06:04:31.305517Z"
    }
   },
   "outputs": [
    {
     "data": {
      "text/plain": [
       "[1.8, 4.0, 6.6, 9.5, 12.3, 15.4, 18.7, 21.9, 24.8, 28.0]"
      ]
     },
     "execution_count": 49,
     "metadata": {},
     "output_type": "execute_result"
    }
   ],
   "source": [
    "[float(v) for v in list(df[0:1].times)[0].split(' ')[1::2]]"
   ]
  },
  {
   "cell_type": "code",
   "execution_count": 60,
   "metadata": {
    "ExecuteTime": {
     "end_time": "2021-02-08T07:09:21.218612Z",
     "start_time": "2021-02-08T06:23:39.954165Z"
    }
   },
   "outputs": [
    {
     "data": {
      "application/vnd.jupyter.widget-view+json": {
       "model_id": "aef6c611b2514b8784eac7159ac3f863",
       "version_major": 2,
       "version_minor": 0
      },
      "text/plain": [
       "HBox(children=(IntProgress(value=0, max=180), HTML(value='')))"
      ]
     },
     "metadata": {},
     "output_type": "display_data"
    },
    {
     "name": "stdout",
     "output_type": "stream",
     "text": [
      "\n"
     ]
    }
   ],
   "source": [
    "base_path = 'data/collected/data/'\n",
    "positives = {}\n",
    "negatives = {}\n",
    "\n",
    "for i in tqdm.tqdm(range(len(df))):\n",
    "    \n",
    "    user_name = list(df[i:i+1].user_name)[0]\n",
    "    type_dir = list(df[i:i+1].type_dir)[0]\n",
    "    directory = list(df[i:i+1].directory)[0]\n",
    "    filename = list(df[i:i+1].filename)[0].split('_')[0]+'_'\n",
    "    \n",
    "    start_times = [float(v) for v in list(df[i:i+1].times)[0].strip().split(' ')[::2]]\n",
    "    end_times = [float(v) for v in list(df[i:i+1].times)[0].strip().split(' ')[1::2]]\n",
    "    \n",
    "    dir_path = user_name +'/'+type_dir+'/'+directory+'/'+filename\n",
    "    \n",
    "    post_fixes = ['LR', 'Tr1', 'Tr2', 'Tr3']\n",
    "    for post_fix in post_fixes:\n",
    "        file_path = base_path + dir_path + post_fix + '.wav'\n",
    "        \n",
    "        raw_data = librosa.core.load(file_path, sr=None)\n",
    "        audio_length = len(raw_data[0])/raw_data[1]\n",
    "        \n",
    "        target_sr = 44100\n",
    "        resampled_data = librosa.core.resample(raw_data[0], raw_data[1], target_sr)\n",
    "        \n",
    "        last = 0.0\n",
    "        for j, (st, et) in enumerate(zip(start_times, end_times)):\n",
    "            negatives[dir_path + post_fix + '.wav/'+str(j)] = resampled_data[int(last*target_sr): int(st*target_sr)]\n",
    "            positives[dir_path + post_fix + '.wav/'+str(j)] = resampled_data[int(st*target_sr): int(et*target_sr)]\n",
    "            last = et"
   ]
  },
  {
   "cell_type": "code",
   "execution_count": 72,
   "metadata": {
    "ExecuteTime": {
     "end_time": "2021-02-08T07:14:17.795735Z",
     "start_time": "2021-02-08T07:14:11.945611Z"
    }
   },
   "outputs": [],
   "source": [
    "# save dictionary in pickle file\n",
    "import pickle\n",
    "output = open('data/collected/data/collected_data.pkl', 'wb')\n",
    "pickle.dump(positives, output)\n",
    "output.close()"
   ]
  },
  {
   "cell_type": "code",
   "execution_count": 75,
   "metadata": {
    "ExecuteTime": {
     "end_time": "2021-02-08T07:14:57.943875Z",
     "start_time": "2021-02-08T07:14:56.299401Z"
    }
   },
   "outputs": [],
   "source": [
    "read_file = open('data/collected/data/collected_data.pkl', 'rb')\n",
    "read_data = pickle.load(read_file)"
   ]
  },
  {
   "cell_type": "code",
   "execution_count": 97,
   "metadata": {
    "ExecuteTime": {
     "end_time": "2021-02-08T17:50:58.084607Z",
     "start_time": "2021-02-08T17:50:58.060616Z"
    }
   },
   "outputs": [],
   "source": [
    "def audio_norm(data):\n",
    "    max_data = np.max(data)\n",
    "    min_data = np.min(data)\n",
    "    data = (data-min_data)/(max_data-min_data+1e-6)\n",
    "    return data-0.5\n",
    "\n",
    "\n",
    "def load_audio_file(file_path, input_length=22050):\n",
    "    data = librosa.core.load(file_path, sr=44100)[0] \n",
    "    \n",
    "    if len(data)>input_length:\n",
    "        max_offset = len(data)-input_length\n",
    "        offset = np.random.randint(max_offset)\n",
    "        data = data[offset:input_length+offset]\n",
    "        \n",
    "    else:\n",
    "        T = np.zeros(input_length, dtype=float)\n",
    "        T[:len(data)] = data\n",
    "        data = T\n",
    "        #max_offset = input_length - len(data)\n",
    "        ##offset = np.random.randint(max_offset)\n",
    "        #data = np.pad(data, (offset, input_length - len(data) - offset), \"constant\")\n",
    "        \n",
    "    data = audio_norm(data)\n",
    "    return np.array([data])"
   ]
  },
  {
   "cell_type": "code",
   "execution_count": 117,
   "metadata": {
    "ExecuteTime": {
     "end_time": "2021-02-08T18:11:14.325203Z",
     "start_time": "2021-02-08T18:11:14.257225Z"
    }
   },
   "outputs": [],
   "source": [
    "class CoughDataset(torch.utils.data.Dataset):\n",
    "    def __init__(self, cough_data_path, non_cough_data_path, train=True, split = 0.8, seed=1):\n",
    "        \n",
    "        # Load Data\n",
    "        \n",
    "        self.cough_data = pickle.load(open(cough_data_path, 'rb'))\n",
    "        self.keys = list(self.cough_data.keys())\n",
    "        \n",
    "        # set Seed\n",
    "        random.seed(seed)\n",
    "        \n",
    "        # shuffle Data\n",
    "        random.shuffle(self.keys)\n",
    "        \n",
    "        \n",
    "        self.non_cough_data = pd.read_csv(non_cough_data_path)\n",
    "        self.non_cough_data = self.non_cough_data[self.non_cough_data.label!='Cough'][:len(self.keys)]\n",
    "        \n",
    "        \n",
    "        # split Data\n",
    "        if train:\n",
    "            self.keys = self.keys[:int(len(self.keys)*split)]\n",
    "            self.non_cough_data = self.non_cough_data[:int(len(self.keys)*split)]\n",
    "        else:\n",
    "            self.keys = self.keys[int(len(self.keys)*split):]\n",
    "            self.non_cough_data = self.non_cough_data[int(len(self.keys)*split):]\n",
    "        \n",
    "\n",
    "        self.non_cough_idx = 0\n",
    "        self.cough_idx = 0\n",
    "        self.max_len = len(self.keys)\n",
    "        # load env_sounds\n",
    "        \n",
    "        \n",
    "        \n",
    "    \n",
    "    def __len__(self):\n",
    "        return len(self.keys)*2\n",
    "    \n",
    "    def __getitem__(self, idx):\n",
    "        \n",
    "        # rnadomly select positive of negetaive instannce\n",
    "        if random.choice([False, True]):\n",
    "            non_cough_file_path = 'data/freesound-audio-tagging/audio_train/' + list(df[self.non_cough_idx: self.non_cough_idx+1].fname)[0]\n",
    "            self.non_cough_idx = 0 if self.non_cough_idx+1>=self.max_len else self.non_cough_idx+1\n",
    "            return load_audio_file(non_cough_file_path), 0\n",
    "        \n",
    "        else:\n",
    "            cough_data_base = np.zeros(22050)\n",
    "            cough_data_instance = self.cough_data[self.keys[self.cough_idx]]\n",
    "            self.cough_idx = 0 if self.cough_idx+1>=self.max_len else self.cough_idx+1\n",
    "            \n",
    "            instance_length = len(cough_data_instance)\n",
    "            \n",
    "            if instance_length/22050 < 1:\n",
    "                start_idx =  int(11025 - int(instance_length/2))\n",
    "                cough_data_base[start_idx:instance_length+start_idx] = cough_data_instance\n",
    "            \n",
    "            else:\n",
    "                start_idx = int(instance_length/2)-11025\n",
    "                cough_data_base = cough_data_instance[start_idx: start_idx+22050]\n",
    "            \n",
    "            return np.array([audio_norm(cough_data_base)]), 1\n",
    "                \n",
    "            "
   ]
  },
  {
   "cell_type": "code",
   "execution_count": 143,
   "metadata": {
    "ExecuteTime": {
     "end_time": "2021-02-08T18:34:36.859031Z",
     "start_time": "2021-02-08T18:34:26.554333Z"
    }
   },
   "outputs": [],
   "source": [
    "Cough_Train_Data = CoughDataset('data/collected/data/collected_data.pkl', 'data/freesound-audio-tagging/train.csv')\n",
    "Cough_Test_Data = CoughDataset('data/collected/data/collected_data.pkl', 'data/freesound-audio-tagging/train.csv', train = False)\n",
    "\n",
    "mini_batch_size = 64\n",
    "Cough_Train_Dataloader = DataLoader(Cough_Train_Data, batch_size=mini_batch_size, shuffle=True)\n",
    "Cough_Test_Dataloader = DataLoader(Cough_Test_Data, batch_size=mini_batch_size, shuffle=True)"
   ]
  },
  {
   "cell_type": "code",
   "execution_count": 124,
   "metadata": {
    "ExecuteTime": {
     "end_time": "2021-02-08T18:16:20.470109Z",
     "start_time": "2021-02-08T18:16:20.306154Z"
    }
   },
   "outputs": [],
   "source": [
    "class FreeSound_Sense(torch.nn.Module):\n",
    "    def __init__(self):\n",
    "        super(FreeSound_Sense, self).__init__()\n",
    "        padding_k_9 = int((9-1)/2)\n",
    "        padding_k_3 = int((3-1)/2)\n",
    "        \n",
    "        # First Block\n",
    "        self.conv1d_1_16_9 = nn.Conv1d(in_channels=1, out_channels=16, \n",
    "                                       kernel_size=9, padding=padding_k_9)\n",
    "        self.conv1d_16_16_9 = nn.Conv1d(in_channels=16, out_channels=16, \n",
    "                                        kernel_size=9, padding=padding_k_9)\n",
    "        \n",
    "        # Second Block\n",
    "        self.conv1d_16_16_3 = nn.Conv1d(in_channels=16, out_channels=16, \n",
    "                                        kernel_size=3, padding=padding_k_3)\n",
    "        \n",
    "        # Third Block\n",
    "        self.conv1d_32_32_3 = nn.Conv1d(in_channels=32, out_channels=32, \n",
    "                                        kernel_size=3, padding=padding_k_3)\n",
    "        \n",
    "        # Fourth Block\n",
    "        self.conv1d_64_64_3 = nn.Conv1d(in_channels=64, out_channels=64, \n",
    "                                        kernel_size=3, padding=padding_k_3)\n",
    "        \n",
    "        # Fifth Block\n",
    "        self.conv1d_128_128_3 = nn.Conv1d(in_channels=128, out_channels=128, \n",
    "                                        kernel_size=3, padding=padding_k_3)\n",
    "        \n",
    "        # Sixth Block\n",
    "        self.conv1d_256_256_3 = nn.Conv1d(in_channels=256, out_channels=256, \n",
    "                                        kernel_size=3, padding=padding_k_3)\n",
    "        \n",
    "        \n",
    "        '''self.conv1d_16_32_3 = nn.Conv1d(in_channels=16, out_channels=32, \n",
    "                                        kernel_size=3, padding=True)\n",
    "        self.conv1d_32_32_3 = nn.Conv1d(in_channels=32, out_channels=32, \n",
    "                                        kernel_size=3, padding=True)\n",
    "        self.conv1d_32_256_3 = nn.Conv1d(in_channels=32, out_channels=256, \n",
    "                                         kernel_size=3, padding=True)\n",
    "        self.conv1d_256_256_3 = nn.Conv1d(in_channels=256, out_channels=256, \n",
    "                                          kernel_size=3, padding=True)'''\n",
    "        \n",
    "        self.maxpool_16 = nn.MaxPool1d(16)\n",
    "        self.maxpool_8 = nn.MaxPool1d(8)\n",
    "        self.maxpool_4 = nn.MaxPool1d(4)\n",
    "        self.maxpool_2 = nn.MaxPool1d(2)\n",
    "        \n",
    "        self.relu = nn.ReLU()\n",
    "        self.sigm = nn.Sigmoid()\n",
    "        self.softmax = nn.Softmax(dim=1)\n",
    "        self.dropout_0_1 = nn.Dropout(0.1)\n",
    "        \n",
    "        self.batchnorm_16 = nn.BatchNorm1d(16)\n",
    "        self.batchnorm_32 = nn.BatchNorm1d(32)\n",
    "        self.batchnorm_64 = nn.BatchNorm1d(64)\n",
    "        self.batchnorm_128 = nn.BatchNorm1d(128)\n",
    "        self.batchnorm_256 = nn.BatchNorm1d(256)\n",
    "        \n",
    "        \n",
    "        self.fc_512_64 = nn.Linear(in_features=512, out_features=64)\n",
    "        self.fc_64_1024 = nn.Linear(in_features=64, out_features=1024)\n",
    "        self.fc_1024_42 = nn.Linear(in_features=1024, out_features=42)\n",
    "        \n",
    "        \n",
    "    def forward(self, x):\n",
    "        \n",
    "        in_ = x\n",
    "        # First Block\n",
    "        x = self.conv1d_1_16_9(x)\n",
    "        x = self.batchnorm_16(x)\n",
    "        x = self.relu(x)\n",
    "        x = self.conv1d_16_16_9(x)\n",
    "        x = self.batchnorm_16(x)\n",
    "        x = self.relu(x)\n",
    "        x = self.maxpool_4(x)\n",
    "        x = self.dropout_0_1(x)\n",
    "        First = x\n",
    "        \n",
    "        \n",
    "        # Second Block\n",
    "        x = self.conv1d_16_16_3(x)\n",
    "        x = self.batchnorm_16(x)\n",
    "        x = self.relu(x)\n",
    "        x = self.conv1d_16_16_3(x)\n",
    "        x = self.batchnorm_16(x)\n",
    "        x = self.relu(x)\n",
    "        \n",
    "        x = torch.cat((First, x), 1)\n",
    "        x = self.maxpool_4(x)\n",
    "        x = self.dropout_0_1(x)\n",
    "        Second = x\n",
    "        \n",
    "        \n",
    "        # Third Block\n",
    "        x = self.conv1d_32_32_3(x)\n",
    "        x = self.batchnorm_32(x)\n",
    "        x = self.relu(x)\n",
    "        x = self.conv1d_32_32_3(x)\n",
    "        x = self.batchnorm_32(x)\n",
    "        x = self.relu(x)\n",
    "        \n",
    "        x = torch.cat((Second, x), 1)\n",
    "        x = self.maxpool_4(x)\n",
    "        x = self.dropout_0_1(x)\n",
    "        Third = x\n",
    "        \n",
    "        \n",
    "        # Fourth Block\n",
    "        x = self.conv1d_64_64_3(x)\n",
    "        x = self.batchnorm_64(x)\n",
    "        x = self.relu(x)\n",
    "        x = self.conv1d_64_64_3(x)\n",
    "        x = self.batchnorm_64(x)\n",
    "        x = self.relu(x)\n",
    "        \n",
    "        x = torch.cat((Third, x), 1)\n",
    "        x = self.maxpool_4(x)\n",
    "        x = self.dropout_0_1(x)\n",
    "        Fourth = x\n",
    "        \n",
    "        \n",
    "        # Fifth Block\n",
    "        x = self.conv1d_128_128_3(x)\n",
    "        x = self.batchnorm_128(x)\n",
    "        x = self.relu(x)\n",
    "        x = self.conv1d_128_128_3(x)\n",
    "        x = self.batchnorm_128(x)\n",
    "        x = self.relu(x)\n",
    "        \n",
    "        x = torch.cat((Fourth, x), 1)\n",
    "        x = self.maxpool_2(x)\n",
    "        x = self.dropout_0_1(x)\n",
    "        Fifth = x\n",
    "        \n",
    "        \n",
    "        # Sixth Block\n",
    "        x = self.conv1d_256_256_3(x)\n",
    "        x = self.batchnorm_256(x)\n",
    "        x = self.relu(x)\n",
    "        x = self.conv1d_256_256_3(x)\n",
    "        x = self.batchnorm_256(x)\n",
    "        x = self.relu(x)\n",
    "        \n",
    "        x = torch.cat((Fifth, x), 1)\n",
    "        x = self.maxpool_2(x)\n",
    "        x = self.dropout_0_1(x)\n",
    "        \n",
    "        x = torch.mean(x, 2)\n",
    "        #print(x.shape)\n",
    "        # Final Layers\n",
    "        x = torch.flatten(x, start_dim=1)\n",
    "        x = self.fc_512_64(x)\n",
    "        x = self.relu(x)\n",
    "        x = self.fc_64_1024(x)\n",
    "        x = self.relu(x)\n",
    "        x = self.fc_1024_42(x)\n",
    "        x = self.softmax(x)\n",
    "        \n",
    "        return x"
   ]
  },
  {
   "cell_type": "code",
   "execution_count": 140,
   "metadata": {
    "ExecuteTime": {
     "end_time": "2021-02-08T18:28:04.218757Z",
     "start_time": "2021-02-08T18:28:03.551971Z"
    }
   },
   "outputs": [
    {
     "name": "stdout",
     "output_type": "stream",
     "text": [
      "----------------------------------------------------------------\n",
      "        Layer (type)               Output Shape         Param #\n",
      "================================================================\n",
      "            Conv1d-1            [-1, 16, 22050]             160\n",
      "       BatchNorm1d-2            [-1, 16, 22050]              32\n",
      "              ReLU-3            [-1, 16, 22050]               0\n",
      "            Conv1d-4            [-1, 16, 22050]           2,320\n",
      "       BatchNorm1d-5            [-1, 16, 22050]              32\n",
      "              ReLU-6            [-1, 16, 22050]               0\n",
      "         MaxPool1d-7             [-1, 16, 5512]               0\n",
      "           Dropout-8             [-1, 16, 5512]               0\n",
      "            Conv1d-9             [-1, 16, 5512]             784\n",
      "      BatchNorm1d-10             [-1, 16, 5512]              32\n",
      "             ReLU-11             [-1, 16, 5512]               0\n",
      "           Conv1d-12             [-1, 16, 5512]             784\n",
      "      BatchNorm1d-13             [-1, 16, 5512]              32\n",
      "             ReLU-14             [-1, 16, 5512]               0\n",
      "        MaxPool1d-15             [-1, 32, 1378]               0\n",
      "          Dropout-16             [-1, 32, 1378]               0\n",
      "           Conv1d-17             [-1, 32, 1378]           3,104\n",
      "      BatchNorm1d-18             [-1, 32, 1378]              64\n",
      "             ReLU-19             [-1, 32, 1378]               0\n",
      "           Conv1d-20             [-1, 32, 1378]           3,104\n",
      "      BatchNorm1d-21             [-1, 32, 1378]              64\n",
      "             ReLU-22             [-1, 32, 1378]               0\n",
      "        MaxPool1d-23              [-1, 64, 344]               0\n",
      "          Dropout-24              [-1, 64, 344]               0\n",
      "           Conv1d-25              [-1, 64, 344]          12,352\n",
      "      BatchNorm1d-26              [-1, 64, 344]             128\n",
      "             ReLU-27              [-1, 64, 344]               0\n",
      "           Conv1d-28              [-1, 64, 344]          12,352\n",
      "      BatchNorm1d-29              [-1, 64, 344]             128\n",
      "             ReLU-30              [-1, 64, 344]               0\n",
      "        MaxPool1d-31              [-1, 128, 86]               0\n",
      "          Dropout-32              [-1, 128, 86]               0\n",
      "           Conv1d-33              [-1, 128, 86]          49,280\n",
      "      BatchNorm1d-34              [-1, 128, 86]             256\n",
      "             ReLU-35              [-1, 128, 86]               0\n",
      "           Conv1d-36              [-1, 128, 86]          49,280\n",
      "      BatchNorm1d-37              [-1, 128, 86]             256\n",
      "             ReLU-38              [-1, 128, 86]               0\n",
      "        MaxPool1d-39              [-1, 256, 43]               0\n",
      "          Dropout-40              [-1, 256, 43]               0\n",
      "           Conv1d-41              [-1, 256, 43]         196,864\n",
      "      BatchNorm1d-42              [-1, 256, 43]             512\n",
      "             ReLU-43              [-1, 256, 43]               0\n",
      "           Conv1d-44              [-1, 256, 43]         196,864\n",
      "      BatchNorm1d-45              [-1, 256, 43]             512\n",
      "             ReLU-46              [-1, 256, 43]               0\n",
      "        MaxPool1d-47              [-1, 512, 21]               0\n",
      "          Dropout-48              [-1, 512, 21]               0\n",
      "           Linear-49                   [-1, 64]          32,832\n",
      "             ReLU-50                   [-1, 64]               0\n",
      "           Linear-51                 [-1, 1024]          66,560\n",
      "             ReLU-52                 [-1, 1024]               0\n",
      "           Linear-53                    [-1, 2]           2,050\n",
      "          Softmax-54                    [-1, 2]               0\n",
      "================================================================\n",
      "Total params: 630,738\n",
      "Trainable params: 630,738\n",
      "Non-trainable params: 0\n",
      "----------------------------------------------------------------\n",
      "Input size (MB): 0.08\n",
      "Forward/backward pass size (MB): 27.09\n",
      "Params size (MB): 2.41\n",
      "Estimated Total Size (MB): 29.58\n",
      "----------------------------------------------------------------\n"
     ]
    }
   ],
   "source": [
    "device = torch.device(\"cuda\" if torch.cuda.is_available() else \"cpu\")\n",
    "Model = FreeSound_Sense()\n",
    "\n",
    "# uncomment if doing transfer learning\n",
    "#Model.load_state_dict(torch.load(\"model_weights/FreeSound_1D_conv_global_pool_deep_batchnorm_2400_epoch.stDict\"))\n",
    "Model.fc_1024_42 = nn.Linear(in_features=1024, out_features=2)\n",
    "\n",
    "# Comment tnext line of doig  tarnsfer learning\n",
    "Model.load_state_dict(torch.load(\"model_weights/Cough_Data_1D_conv_global_pool_deep_batchnorm_15_epoch_95Acc.stDict\"))\n",
    "\n",
    "\n",
    "\n",
    "Model.float()\n",
    "Model.to(device)\n",
    "\n",
    "# Change the last layer\n",
    "summary(Model, (1, 22050))\n",
    "\n",
    "criterion = nn.CrossEntropyLoss()\n",
    "#optimizer = optim.SGD(Model.parameters(), lr=0.001, momentum=0.9)\n",
    "\n",
    "# For the first 100 epoch only train the last 3 layers of FC after that connect the below loop\n",
    "for i, param in enumerate(Model.parameters()):\n",
    "    if i not in [27, 28, 29]:\n",
    "        param.requires_grad = False\n",
    "        \n",
    "        \n",
    "optimizer = optim.Adam(Model.parameters(), lr=0.0005, betas=(0.9, 0.999), eps=1e-08, weight_decay=0)\n",
    "\n",
    "\n"
   ]
  },
  {
   "cell_type": "code",
   "execution_count": null,
   "metadata": {
    "ExecuteTime": {
     "start_time": "2021-02-08T20:15:55.305Z"
    }
   },
   "outputs": [
    {
     "data": {
      "application/vnd.jupyter.widget-view+json": {
       "model_id": "fe2d705a77d441ec8ccdf534b40b395f",
       "version_major": 2,
       "version_minor": 0
      },
      "text/plain": [
       "HBox(children=(IntProgress(value=0, max=500), HTML(value='')))"
      ]
     },
     "metadata": {},
     "output_type": "display_data"
    },
    {
     "data": {
      "application/vnd.jupyter.widget-view+json": {
       "model_id": "e13b65328042404d95ec4eef3c1836ee",
       "version_major": 2,
       "version_minor": 0
      },
      "text/plain": [
       "HBox(children=(IntProgress(value=0, max=182), HTML(value='')))"
      ]
     },
     "metadata": {},
     "output_type": "display_data"
    },
    {
     "name": "stdout",
     "output_type": "stream",
     "text": [
      "\n",
      "Epoch Loss:  0.3569995403944791\n",
      "Train Acc  95.44127747252747\n"
     ]
    },
    {
     "data": {
      "application/vnd.jupyter.widget-view+json": {
       "model_id": "315226117e6e44b19ffeea8445de3098",
       "version_major": 2,
       "version_minor": 0
      },
      "text/plain": [
       "HBox(children=(IntProgress(value=0, max=46), HTML(value='')))"
      ]
     },
     "metadata": {},
     "output_type": "display_data"
    },
    {
     "name": "stdout",
     "output_type": "stream",
     "text": [
      "\n",
      "Valid Acc  94.19157608695652\n"
     ]
    },
    {
     "data": {
      "application/vnd.jupyter.widget-view+json": {
       "model_id": "1c105aa55d7042c8b740f3d5d2be9291",
       "version_major": 2,
       "version_minor": 0
      },
      "text/plain": [
       "HBox(children=(IntProgress(value=0, max=182), HTML(value='')))"
      ]
     },
     "metadata": {},
     "output_type": "display_data"
    },
    {
     "name": "stdout",
     "output_type": "stream",
     "text": [
      "\n",
      "Epoch Loss:  0.35605723451782056\n",
      "Train Acc  95.64732142857143\n"
     ]
    },
    {
     "data": {
      "application/vnd.jupyter.widget-view+json": {
       "model_id": "98c1009bf846427eb7e536c2dfc85a6f",
       "version_major": 2,
       "version_minor": 0
      },
      "text/plain": [
       "HBox(children=(IntProgress(value=0, max=46), HTML(value='')))"
      ]
     },
     "metadata": {},
     "output_type": "display_data"
    },
    {
     "name": "stdout",
     "output_type": "stream",
     "text": [
      "\n",
      "Valid Acc  94.53125\n"
     ]
    },
    {
     "data": {
      "application/vnd.jupyter.widget-view+json": {
       "model_id": "7ff1e0c3ce07469bbfa4bf0c789951ac",
       "version_major": 2,
       "version_minor": 0
      },
      "text/plain": [
       "HBox(children=(IntProgress(value=0, max=182), HTML(value='')))"
      ]
     },
     "metadata": {},
     "output_type": "display_data"
    },
    {
     "name": "stdout",
     "output_type": "stream",
     "text": [
      "\n",
      "Epoch Loss:  0.35416259575676134\n",
      "Train Acc  95.8018543956044\n"
     ]
    },
    {
     "data": {
      "application/vnd.jupyter.widget-view+json": {
       "model_id": "c19ac6bdbc6c4103a7a16e50d8ba9024",
       "version_major": 2,
       "version_minor": 0
      },
      "text/plain": [
       "HBox(children=(IntProgress(value=0, max=46), HTML(value='')))"
      ]
     },
     "metadata": {},
     "output_type": "display_data"
    },
    {
     "name": "stdout",
     "output_type": "stream",
     "text": [
      "\n",
      "Valid Acc  94.39538043478261\n"
     ]
    },
    {
     "data": {
      "application/vnd.jupyter.widget-view+json": {
       "model_id": "f3f82a9441e449fdb506e8ddfbb188f9",
       "version_major": 2,
       "version_minor": 0
      },
      "text/plain": [
       "HBox(children=(IntProgress(value=0, max=182), HTML(value='')))"
      ]
     },
     "metadata": {},
     "output_type": "display_data"
    },
    {
     "name": "stdout",
     "output_type": "stream",
     "text": [
      "\n",
      "Epoch Loss:  0.35448611912491557\n",
      "Train Acc  95.71600274725274\n"
     ]
    },
    {
     "data": {
      "application/vnd.jupyter.widget-view+json": {
       "model_id": "caa520e97c6840ec968a945ce33369d3",
       "version_major": 2,
       "version_minor": 0
      },
      "text/plain": [
       "HBox(children=(IntProgress(value=0, max=46), HTML(value='')))"
      ]
     },
     "metadata": {},
     "output_type": "display_data"
    },
    {
     "name": "stdout",
     "output_type": "stream",
     "text": [
      "\n",
      "Valid Acc  94.66711956521739\n"
     ]
    },
    {
     "data": {
      "application/vnd.jupyter.widget-view+json": {
       "model_id": "a5eb556aae0f4e3ca82526e43189d8a1",
       "version_major": 2,
       "version_minor": 0
      },
      "text/plain": [
       "HBox(children=(IntProgress(value=0, max=182), HTML(value='')))"
      ]
     },
     "metadata": {},
     "output_type": "display_data"
    },
    {
     "name": "stdout",
     "output_type": "stream",
     "text": [
      "\n",
      "Epoch Loss:  0.35420619115069674\n",
      "Train Acc  95.87912087912088\n"
     ]
    },
    {
     "data": {
      "application/vnd.jupyter.widget-view+json": {
       "model_id": "10caa10afe694a4591e03cba2156ecb9",
       "version_major": 2,
       "version_minor": 0
      },
      "text/plain": [
       "HBox(children=(IntProgress(value=0, max=46), HTML(value='')))"
      ]
     },
     "metadata": {},
     "output_type": "display_data"
    },
    {
     "name": "stdout",
     "output_type": "stream",
     "text": [
      "\n",
      "Valid Acc  95.00679347826087\n"
     ]
    },
    {
     "data": {
      "application/vnd.jupyter.widget-view+json": {
       "model_id": "b1becc77120f403d885a904987d67ee8",
       "version_major": 2,
       "version_minor": 0
      },
      "text/plain": [
       "HBox(children=(IntProgress(value=0, max=182), HTML(value='')))"
      ]
     },
     "metadata": {},
     "output_type": "display_data"
    },
    {
     "name": "stdout",
     "output_type": "stream",
     "text": [
      "\n",
      "Epoch Loss:  0.35380229124656093\n",
      "Train Acc  95.83619505494505\n"
     ]
    },
    {
     "data": {
      "application/vnd.jupyter.widget-view+json": {
       "model_id": "ca666aac7393459390df0117f5e43e4e",
       "version_major": 2,
       "version_minor": 0
      },
      "text/plain": [
       "HBox(children=(IntProgress(value=0, max=46), HTML(value='')))"
      ]
     },
     "metadata": {},
     "output_type": "display_data"
    },
    {
     "name": "stdout",
     "output_type": "stream",
     "text": [
      "\n",
      "Valid Acc  93.91983695652173\n"
     ]
    },
    {
     "data": {
      "application/vnd.jupyter.widget-view+json": {
       "model_id": "b42b38f184b147fdb07ca5e625e43c86",
       "version_major": 2,
       "version_minor": 0
      },
      "text/plain": [
       "HBox(children=(IntProgress(value=0, max=182), HTML(value='')))"
      ]
     },
     "metadata": {},
     "output_type": "display_data"
    },
    {
     "name": "stdout",
     "output_type": "stream",
     "text": [
      "\n",
      "Epoch Loss:  0.3533589923447305\n",
      "Train Acc  95.88770604395604\n"
     ]
    },
    {
     "data": {
      "application/vnd.jupyter.widget-view+json": {
       "model_id": "0def3bd9d54a4dc2af1807bc80699a5c",
       "version_major": 2,
       "version_minor": 0
      },
      "text/plain": [
       "HBox(children=(IntProgress(value=0, max=46), HTML(value='')))"
      ]
     },
     "metadata": {},
     "output_type": "display_data"
    },
    {
     "name": "stdout",
     "output_type": "stream",
     "text": [
      "\n",
      "Valid Acc  94.02173913043478\n"
     ]
    },
    {
     "data": {
      "application/vnd.jupyter.widget-view+json": {
       "model_id": "bd07acc351b941c1bdcbf33ea3e088a5",
       "version_major": 2,
       "version_minor": 0
      },
      "text/plain": [
       "HBox(children=(IntProgress(value=0, max=182), HTML(value='')))"
      ]
     },
     "metadata": {},
     "output_type": "display_data"
    },
    {
     "name": "stdout",
     "output_type": "stream",
     "text": [
      "\n",
      "Epoch Loss:  0.3545735504601028\n",
      "Train Acc  95.6559065934066\n"
     ]
    },
    {
     "data": {
      "application/vnd.jupyter.widget-view+json": {
       "model_id": "981228e8bdb14fa0b8b010817c1732bd",
       "version_major": 2,
       "version_minor": 0
      },
      "text/plain": [
       "HBox(children=(IntProgress(value=0, max=46), HTML(value='')))"
      ]
     },
     "metadata": {},
     "output_type": "display_data"
    },
    {
     "name": "stdout",
     "output_type": "stream",
     "text": [
      "\n",
      "Valid Acc  93.61413043478261\n"
     ]
    },
    {
     "data": {
      "application/vnd.jupyter.widget-view+json": {
       "model_id": "098a80ad948647cfa49c9520a6fabb66",
       "version_major": 2,
       "version_minor": 0
      },
      "text/plain": [
       "HBox(children=(IntProgress(value=0, max=182), HTML(value='')))"
      ]
     },
     "metadata": {},
     "output_type": "display_data"
    },
    {
     "name": "stdout",
     "output_type": "stream",
     "text": [
      "\n",
      "Epoch Loss:  0.3548649068062122\n",
      "Train Acc  95.73317307692308\n"
     ]
    },
    {
     "data": {
      "application/vnd.jupyter.widget-view+json": {
       "model_id": "50e86ac20e934642bac0b16af940af68",
       "version_major": 2,
       "version_minor": 0
      },
      "text/plain": [
       "HBox(children=(IntProgress(value=0, max=46), HTML(value='')))"
      ]
     },
     "metadata": {},
     "output_type": "display_data"
    },
    {
     "name": "stdout",
     "output_type": "stream",
     "text": [
      "\n",
      "Valid Acc  93.78396739130434\n"
     ]
    },
    {
     "data": {
      "application/vnd.jupyter.widget-view+json": {
       "model_id": "aa4d1d5413d94782b7b8922dbf595177",
       "version_major": 2,
       "version_minor": 0
      },
      "text/plain": [
       "HBox(children=(IntProgress(value=0, max=182), HTML(value='')))"
      ]
     },
     "metadata": {},
     "output_type": "display_data"
    },
    {
     "name": "stdout",
     "output_type": "stream",
     "text": [
      "\n",
      "Epoch Loss:  0.35202224798254916\n",
      "Train Acc  96.05082417582418\n"
     ]
    },
    {
     "data": {
      "application/vnd.jupyter.widget-view+json": {
       "model_id": "167a6030f36a41a58d4a7d502fc79b59",
       "version_major": 2,
       "version_minor": 0
      },
      "text/plain": [
       "HBox(children=(IntProgress(value=0, max=46), HTML(value='')))"
      ]
     },
     "metadata": {},
     "output_type": "display_data"
    },
    {
     "name": "stdout",
     "output_type": "stream",
     "text": [
      "\n",
      "Valid Acc  94.7350543478261\n"
     ]
    },
    {
     "data": {
      "application/vnd.jupyter.widget-view+json": {
       "model_id": "1dd6bd04b56844879c770faed5c2788d",
       "version_major": 2,
       "version_minor": 0
      },
      "text/plain": [
       "HBox(children=(IntProgress(value=0, max=182), HTML(value='')))"
      ]
     },
     "metadata": {},
     "output_type": "display_data"
    },
    {
     "name": "stdout",
     "output_type": "stream",
     "text": [
      "\n",
      "Epoch Loss:  0.3546170487508669\n",
      "Train Acc  95.70741758241758\n"
     ]
    },
    {
     "data": {
      "application/vnd.jupyter.widget-view+json": {
       "model_id": "a698854a47cf43e9bea5353948432e07",
       "version_major": 2,
       "version_minor": 0
      },
      "text/plain": [
       "HBox(children=(IntProgress(value=0, max=46), HTML(value='')))"
      ]
     },
     "metadata": {},
     "output_type": "display_data"
    },
    {
     "name": "stdout",
     "output_type": "stream",
     "text": [
      "\n",
      "Valid Acc  94.7350543478261\n"
     ]
    },
    {
     "data": {
      "application/vnd.jupyter.widget-view+json": {
       "model_id": "de51fe321ad9404b8e59d6cd798df391",
       "version_major": 2,
       "version_minor": 0
      },
      "text/plain": [
       "HBox(children=(IntProgress(value=0, max=182), HTML(value='')))"
      ]
     },
     "metadata": {},
     "output_type": "display_data"
    },
    {
     "name": "stdout",
     "output_type": "stream",
     "text": [
      "\n",
      "Epoch Loss:  0.3534668327032865\n",
      "Train Acc  95.75892857142857\n"
     ]
    },
    {
     "data": {
      "application/vnd.jupyter.widget-view+json": {
       "model_id": "73bfd90a861849e9aaf390e844c21749",
       "version_major": 2,
       "version_minor": 0
      },
      "text/plain": [
       "HBox(children=(IntProgress(value=0, max=46), HTML(value='')))"
      ]
     },
     "metadata": {},
     "output_type": "display_data"
    },
    {
     "name": "stdout",
     "output_type": "stream",
     "text": [
      "\n",
      "Valid Acc  94.70108695652173\n"
     ]
    },
    {
     "data": {
      "application/vnd.jupyter.widget-view+json": {
       "model_id": "06844e4d1abb402298c88e4b26020cd0",
       "version_major": 2,
       "version_minor": 0
      },
      "text/plain": [
       "HBox(children=(IntProgress(value=0, max=182), HTML(value='')))"
      ]
     },
     "metadata": {},
     "output_type": "display_data"
    },
    {
     "name": "stdout",
     "output_type": "stream",
     "text": [
      "\n",
      "Epoch Loss:  0.3530302945074144\n",
      "Train Acc  95.89629120879121\n"
     ]
    },
    {
     "data": {
      "application/vnd.jupyter.widget-view+json": {
       "model_id": "17da1ade28ef4675bbf3231c4418eccc",
       "version_major": 2,
       "version_minor": 0
      },
      "text/plain": [
       "HBox(children=(IntProgress(value=0, max=46), HTML(value='')))"
      ]
     },
     "metadata": {},
     "output_type": "display_data"
    },
    {
     "name": "stdout",
     "output_type": "stream",
     "text": [
      "\n",
      "Valid Acc  94.29347826086956\n"
     ]
    },
    {
     "data": {
      "application/vnd.jupyter.widget-view+json": {
       "model_id": "bc36f12368d5474ea9b6730b09882396",
       "version_major": 2,
       "version_minor": 0
      },
      "text/plain": [
       "HBox(children=(IntProgress(value=0, max=182), HTML(value='')))"
      ]
     },
     "metadata": {},
     "output_type": "display_data"
    },
    {
     "name": "stdout",
     "output_type": "stream",
     "text": [
      "\n",
      "Epoch Loss:  0.3509311911823985\n",
      "Train Acc  96.06799450549451\n"
     ]
    },
    {
     "data": {
      "application/vnd.jupyter.widget-view+json": {
       "model_id": "15bd2b7787424d11a88dd699a438e40b",
       "version_major": 2,
       "version_minor": 0
      },
      "text/plain": [
       "HBox(children=(IntProgress(value=0, max=46), HTML(value='')))"
      ]
     },
     "metadata": {},
     "output_type": "display_data"
    },
    {
     "name": "stdout",
     "output_type": "stream",
     "text": [
      "\n",
      "Valid Acc  94.83695652173913\n"
     ]
    },
    {
     "data": {
      "application/vnd.jupyter.widget-view+json": {
       "model_id": "ce6d0aecab564bcfaf8a65ba4dd12ac1",
       "version_major": 2,
       "version_minor": 0
      },
      "text/plain": [
       "HBox(children=(IntProgress(value=0, max=182), HTML(value='')))"
      ]
     },
     "metadata": {},
     "output_type": "display_data"
    },
    {
     "name": "stdout",
     "output_type": "stream",
     "text": [
      "\n",
      "Epoch Loss:  0.35170816097940716\n",
      "Train Acc  95.96497252747253\n"
     ]
    },
    {
     "data": {
      "application/vnd.jupyter.widget-view+json": {
       "model_id": "be0d38ae538a4195b957127da0e2e805",
       "version_major": 2,
       "version_minor": 0
      },
      "text/plain": [
       "HBox(children=(IntProgress(value=0, max=46), HTML(value='')))"
      ]
     },
     "metadata": {},
     "output_type": "display_data"
    },
    {
     "name": "stdout",
     "output_type": "stream",
     "text": [
      "\n",
      "Valid Acc  94.83695652173913\n"
     ]
    },
    {
     "data": {
      "application/vnd.jupyter.widget-view+json": {
       "model_id": "126ce28e66db4ede9a195241ac81f649",
       "version_major": 2,
       "version_minor": 0
      },
      "text/plain": [
       "HBox(children=(IntProgress(value=0, max=182), HTML(value='')))"
      ]
     },
     "metadata": {},
     "output_type": "display_data"
    },
    {
     "name": "stdout",
     "output_type": "stream",
     "text": [
      "\n",
      "Epoch Loss:  0.35318494154201757\n",
      "Train Acc  95.7760989010989\n"
     ]
    },
    {
     "data": {
      "application/vnd.jupyter.widget-view+json": {
       "model_id": "4b9b8350324f47bf8fb97e86b7050e8d",
       "version_major": 2,
       "version_minor": 0
      },
      "text/plain": [
       "HBox(children=(IntProgress(value=0, max=46), HTML(value='')))"
      ]
     },
     "metadata": {},
     "output_type": "display_data"
    },
    {
     "name": "stdout",
     "output_type": "stream",
     "text": [
      "\n",
      "Valid Acc  94.49728260869566\n"
     ]
    },
    {
     "data": {
      "application/vnd.jupyter.widget-view+json": {
       "model_id": "0f6c81f06ccc428bafce5e67b3af606f",
       "version_major": 2,
       "version_minor": 0
      },
      "text/plain": [
       "HBox(children=(IntProgress(value=0, max=182), HTML(value='')))"
      ]
     },
     "metadata": {},
     "output_type": "display_data"
    },
    {
     "name": "stdout",
     "output_type": "stream",
     "text": [
      "\n",
      "Epoch Loss:  0.3522284864396839\n",
      "Train Acc  95.91346153846153\n"
     ]
    },
    {
     "data": {
      "application/vnd.jupyter.widget-view+json": {
       "model_id": "19a1dc1af9f54b9783f99fb8e8a23737",
       "version_major": 2,
       "version_minor": 0
      },
      "text/plain": [
       "HBox(children=(IntProgress(value=0, max=46), HTML(value='')))"
      ]
     },
     "metadata": {},
     "output_type": "display_data"
    },
    {
     "name": "stdout",
     "output_type": "stream",
     "text": [
      "\n",
      "Valid Acc  94.83695652173913\n"
     ]
    },
    {
     "data": {
      "application/vnd.jupyter.widget-view+json": {
       "model_id": "d143c13b285349e79e2f7c328df362b7",
       "version_major": 2,
       "version_minor": 0
      },
      "text/plain": [
       "HBox(children=(IntProgress(value=0, max=182), HTML(value='')))"
      ]
     },
     "metadata": {},
     "output_type": "display_data"
    },
    {
     "name": "stdout",
     "output_type": "stream",
     "text": [
      "\n",
      "Epoch Loss:  0.35237330411161694\n",
      "Train Acc  95.90487637362638\n"
     ]
    },
    {
     "data": {
      "application/vnd.jupyter.widget-view+json": {
       "model_id": "cde84331e9304ff282176e2b50078515",
       "version_major": 2,
       "version_minor": 0
      },
      "text/plain": [
       "HBox(children=(IntProgress(value=0, max=46), HTML(value='')))"
      ]
     },
     "metadata": {},
     "output_type": "display_data"
    },
    {
     "name": "stdout",
     "output_type": "stream",
     "text": [
      "\n",
      "Valid Acc  95.00679347826087\n"
     ]
    },
    {
     "data": {
      "application/vnd.jupyter.widget-view+json": {
       "model_id": "305f5fc75efd417a8b1db1b33dac9d10",
       "version_major": 2,
       "version_minor": 0
      },
      "text/plain": [
       "HBox(children=(IntProgress(value=0, max=182), HTML(value='')))"
      ]
     },
     "metadata": {},
     "output_type": "display_data"
    },
    {
     "name": "stdout",
     "output_type": "stream",
     "text": [
      "\n",
      "Epoch Loss:  0.35121038244975794\n",
      "Train Acc  96.03365384615384\n"
     ]
    },
    {
     "data": {
      "application/vnd.jupyter.widget-view+json": {
       "model_id": "9786bc0fc9454f06a1ea3d0072435fde",
       "version_major": 2,
       "version_minor": 0
      },
      "text/plain": [
       "HBox(children=(IntProgress(value=0, max=46), HTML(value='')))"
      ]
     },
     "metadata": {},
     "output_type": "display_data"
    },
    {
     "name": "stdout",
     "output_type": "stream",
     "text": [
      "\n",
      "Valid Acc  95.21059782608695\n"
     ]
    },
    {
     "data": {
      "application/vnd.jupyter.widget-view+json": {
       "model_id": "1bf7d46046944bb490ef22d66bbe3e08",
       "version_major": 2,
       "version_minor": 0
      },
      "text/plain": [
       "HBox(children=(IntProgress(value=0, max=182), HTML(value='')))"
      ]
     },
     "metadata": {},
     "output_type": "display_data"
    },
    {
     "name": "stdout",
     "output_type": "stream",
     "text": [
      "\n",
      "Epoch Loss:  0.3512382864297091\n",
      "Train Acc  96.08516483516483\n"
     ]
    },
    {
     "data": {
      "application/vnd.jupyter.widget-view+json": {
       "model_id": "01f4c50276c64995a6f28d30ebe1392a",
       "version_major": 2,
       "version_minor": 0
      },
      "text/plain": [
       "HBox(children=(IntProgress(value=0, max=46), HTML(value='')))"
      ]
     },
     "metadata": {},
     "output_type": "display_data"
    },
    {
     "name": "stdout",
     "output_type": "stream",
     "text": [
      "\n",
      "Valid Acc  94.66711956521739\n"
     ]
    },
    {
     "data": {
      "application/vnd.jupyter.widget-view+json": {
       "model_id": "ed55a12c43bc47babd1021666a952e07",
       "version_major": 2,
       "version_minor": 0
      },
      "text/plain": [
       "HBox(children=(IntProgress(value=0, max=182), HTML(value='')))"
      ]
     },
     "metadata": {},
     "output_type": "display_data"
    },
    {
     "name": "stdout",
     "output_type": "stream",
     "text": [
      "\n",
      "Epoch Loss:  0.35315313313033553\n",
      "Train Acc  95.7760989010989\n"
     ]
    },
    {
     "data": {
      "application/vnd.jupyter.widget-view+json": {
       "model_id": "1068d113e29f4ec9a798f5263d2193a2",
       "version_major": 2,
       "version_minor": 0
      },
      "text/plain": [
       "HBox(children=(IntProgress(value=0, max=46), HTML(value='')))"
      ]
     },
     "metadata": {},
     "output_type": "display_data"
    },
    {
     "name": "stdout",
     "output_type": "stream",
     "text": [
      "\n",
      "Valid Acc  94.42934782608695\n"
     ]
    },
    {
     "data": {
      "application/vnd.jupyter.widget-view+json": {
       "model_id": "ec954def485f4fd69a992138708d997c",
       "version_major": 2,
       "version_minor": 0
      },
      "text/plain": [
       "HBox(children=(IntProgress(value=0, max=182), HTML(value='')))"
      ]
     },
     "metadata": {},
     "output_type": "display_data"
    },
    {
     "name": "stdout",
     "output_type": "stream",
     "text": [
      "\n",
      "Epoch Loss:  0.35067050617474776\n",
      "Train Acc  96.10233516483517\n"
     ]
    },
    {
     "data": {
      "application/vnd.jupyter.widget-view+json": {
       "model_id": "5c380ac7057646d1ad26096b2c9b3241",
       "version_major": 2,
       "version_minor": 0
      },
      "text/plain": [
       "HBox(children=(IntProgress(value=0, max=46), HTML(value='')))"
      ]
     },
     "metadata": {},
     "output_type": "display_data"
    },
    {
     "name": "stdout",
     "output_type": "stream",
     "text": [
      "\n",
      "Valid Acc  94.7350543478261\n"
     ]
    },
    {
     "data": {
      "application/vnd.jupyter.widget-view+json": {
       "model_id": "ebf5fc1b85ed46bf8076993a31312945",
       "version_major": 2,
       "version_minor": 0
      },
      "text/plain": [
       "HBox(children=(IntProgress(value=0, max=182), HTML(value='')))"
      ]
     },
     "metadata": {},
     "output_type": "display_data"
    },
    {
     "name": "stdout",
     "output_type": "stream",
     "text": [
      "\n",
      "Epoch Loss:  0.35212329013662025\n",
      "Train Acc  95.93921703296704\n"
     ]
    },
    {
     "data": {
      "application/vnd.jupyter.widget-view+json": {
       "model_id": "0e640bd3da6940269882d60c476ee5e7",
       "version_major": 2,
       "version_minor": 0
      },
      "text/plain": [
       "HBox(children=(IntProgress(value=0, max=46), HTML(value='')))"
      ]
     },
     "metadata": {},
     "output_type": "display_data"
    },
    {
     "name": "stdout",
     "output_type": "stream",
     "text": [
      "\n",
      "Valid Acc  94.7350543478261\n"
     ]
    },
    {
     "data": {
      "application/vnd.jupyter.widget-view+json": {
       "model_id": "fde371f839b64e81acaa264cb12adb6e",
       "version_major": 2,
       "version_minor": 0
      },
      "text/plain": [
       "HBox(children=(IntProgress(value=0, max=182), HTML(value='')))"
      ]
     },
     "metadata": {},
     "output_type": "display_data"
    },
    {
     "name": "stdout",
     "output_type": "stream",
     "text": [
      "\n",
      "Epoch Loss:  0.3507275320998915\n",
      "Train Acc  96.15384615384616\n"
     ]
    },
    {
     "data": {
      "application/vnd.jupyter.widget-view+json": {
       "model_id": "34bb0592b1174ba7a9ecc95c819656b3",
       "version_major": 2,
       "version_minor": 0
      },
      "text/plain": [
       "HBox(children=(IntProgress(value=0, max=46), HTML(value='')))"
      ]
     },
     "metadata": {},
     "output_type": "display_data"
    },
    {
     "name": "stdout",
     "output_type": "stream",
     "text": [
      "\n",
      "Valid Acc  95.34646739130434\n"
     ]
    },
    {
     "data": {
      "application/vnd.jupyter.widget-view+json": {
       "model_id": "17e858db90b54dd0a5480679060889cf",
       "version_major": 2,
       "version_minor": 0
      },
      "text/plain": [
       "HBox(children=(IntProgress(value=0, max=182), HTML(value='')))"
      ]
     },
     "metadata": {},
     "output_type": "display_data"
    },
    {
     "name": "stdout",
     "output_type": "stream",
     "text": [
      "\n",
      "Epoch Loss:  0.350299440733679\n",
      "Train Acc  96.13667582417582\n"
     ]
    },
    {
     "data": {
      "application/vnd.jupyter.widget-view+json": {
       "model_id": "b2eab3c6466a4c349d78c0f93f90aa79",
       "version_major": 2,
       "version_minor": 0
      },
      "text/plain": [
       "HBox(children=(IntProgress(value=0, max=46), HTML(value='')))"
      ]
     },
     "metadata": {},
     "output_type": "display_data"
    },
    {
     "name": "stdout",
     "output_type": "stream",
     "text": [
      "\n",
      "Valid Acc  95.34646739130434\n"
     ]
    },
    {
     "data": {
      "application/vnd.jupyter.widget-view+json": {
       "model_id": "a96a954e04204c388b1f71012e2b3272",
       "version_major": 2,
       "version_minor": 0
      },
      "text/plain": [
       "HBox(children=(IntProgress(value=0, max=182), HTML(value='')))"
      ]
     },
     "metadata": {},
     "output_type": "display_data"
    },
    {
     "name": "stdout",
     "output_type": "stream",
     "text": [
      "\n",
      "Epoch Loss:  0.35192004550289324\n",
      "Train Acc  95.93063186813187\n"
     ]
    },
    {
     "data": {
      "application/vnd.jupyter.widget-view+json": {
       "model_id": "124495a0143749f9a00b4ab47f56c137",
       "version_major": 2,
       "version_minor": 0
      },
      "text/plain": [
       "HBox(children=(IntProgress(value=0, max=46), HTML(value='')))"
      ]
     },
     "metadata": {},
     "output_type": "display_data"
    },
    {
     "name": "stdout",
     "output_type": "stream",
     "text": [
      "\n",
      "Valid Acc  94.80298913043478\n"
     ]
    },
    {
     "data": {
      "application/vnd.jupyter.widget-view+json": {
       "model_id": "d8b59a1a2e394a7886b79bcc1625f71a",
       "version_major": 2,
       "version_minor": 0
      },
      "text/plain": [
       "HBox(children=(IntProgress(value=0, max=182), HTML(value='')))"
      ]
     },
     "metadata": {},
     "output_type": "display_data"
    },
    {
     "name": "stdout",
     "output_type": "stream",
     "text": [
      "\n",
      "Epoch Loss:  0.3525141125524437\n",
      "Train Acc  95.85336538461539\n"
     ]
    },
    {
     "data": {
      "application/vnd.jupyter.widget-view+json": {
       "model_id": "3e03abea10f34726aae4e05dad0fb86c",
       "version_major": 2,
       "version_minor": 0
      },
      "text/plain": [
       "HBox(children=(IntProgress(value=0, max=46), HTML(value='')))"
      ]
     },
     "metadata": {},
     "output_type": "display_data"
    },
    {
     "name": "stdout",
     "output_type": "stream",
     "text": [
      "\n",
      "Valid Acc  94.39538043478261\n"
     ]
    },
    {
     "data": {
      "application/vnd.jupyter.widget-view+json": {
       "model_id": "f90b8486c71e4e5ea2604914ba9fe486",
       "version_major": 2,
       "version_minor": 0
      },
      "text/plain": [
       "HBox(children=(IntProgress(value=0, max=182), HTML(value='')))"
      ]
     },
     "metadata": {},
     "output_type": "display_data"
    },
    {
     "name": "stdout",
     "output_type": "stream",
     "text": [
      "\n",
      "Epoch Loss:  0.350094660789102\n",
      "Train Acc  96.10233516483517\n"
     ]
    },
    {
     "data": {
      "application/vnd.jupyter.widget-view+json": {
       "model_id": "c9bdc37591514d8c9eec06c995aefdd7",
       "version_major": 2,
       "version_minor": 0
      },
      "text/plain": [
       "HBox(children=(IntProgress(value=0, max=46), HTML(value='')))"
      ]
     },
     "metadata": {},
     "output_type": "display_data"
    },
    {
     "name": "stdout",
     "output_type": "stream",
     "text": [
      "\n",
      "Valid Acc  95.04076086956522\n"
     ]
    },
    {
     "data": {
      "application/vnd.jupyter.widget-view+json": {
       "model_id": "66ef16d2d21e429388d20401f6b7394b",
       "version_major": 2,
       "version_minor": 0
      },
      "text/plain": [
       "HBox(children=(IntProgress(value=0, max=182), HTML(value='')))"
      ]
     },
     "metadata": {},
     "output_type": "display_data"
    },
    {
     "name": "stdout",
     "output_type": "stream",
     "text": [
      "\n",
      "Epoch Loss:  0.3512668920742286\n",
      "Train Acc  96.01648351648352\n"
     ]
    },
    {
     "data": {
      "application/vnd.jupyter.widget-view+json": {
       "model_id": "77cc48f9df224e5bb2b07c1ced290fc7",
       "version_major": 2,
       "version_minor": 0
      },
      "text/plain": [
       "HBox(children=(IntProgress(value=0, max=46), HTML(value='')))"
      ]
     },
     "metadata": {},
     "output_type": "display_data"
    },
    {
     "name": "stdout",
     "output_type": "stream",
     "text": [
      "\n",
      "Valid Acc  94.4633152173913\n"
     ]
    },
    {
     "data": {
      "application/vnd.jupyter.widget-view+json": {
       "model_id": "9744f3e128a44f318a141e54a8a01a3c",
       "version_major": 2,
       "version_minor": 0
      },
      "text/plain": [
       "HBox(children=(IntProgress(value=0, max=182), HTML(value='')))"
      ]
     },
     "metadata": {},
     "output_type": "display_data"
    },
    {
     "name": "stdout",
     "output_type": "stream",
     "text": [
      "\n",
      "Epoch Loss:  0.3507646669398297\n",
      "Train Acc  96.11092032967034\n"
     ]
    },
    {
     "data": {
      "application/vnd.jupyter.widget-view+json": {
       "model_id": "3ab4efaa4fc34cdbb67be171a51cb89e",
       "version_major": 2,
       "version_minor": 0
      },
      "text/plain": [
       "HBox(children=(IntProgress(value=0, max=46), HTML(value='')))"
      ]
     },
     "metadata": {},
     "output_type": "display_data"
    },
    {
     "name": "stdout",
     "output_type": "stream",
     "text": [
      "\n",
      "Valid Acc  95.17663043478261\n"
     ]
    },
    {
     "data": {
      "application/vnd.jupyter.widget-view+json": {
       "model_id": "e113d709321f40c98e7333deb4d92e3d",
       "version_major": 2,
       "version_minor": 0
      },
      "text/plain": [
       "HBox(children=(IntProgress(value=0, max=182), HTML(value='')))"
      ]
     },
     "metadata": {},
     "output_type": "display_data"
    },
    {
     "name": "stdout",
     "output_type": "stream",
     "text": [
      "\n",
      "Epoch Loss:  0.3507789990731648\n",
      "Train Acc  96.10233516483517\n"
     ]
    },
    {
     "data": {
      "application/vnd.jupyter.widget-view+json": {
       "model_id": "11e1b509d65b43acaa3ddf83dec3f419",
       "version_major": 2,
       "version_minor": 0
      },
      "text/plain": [
       "HBox(children=(IntProgress(value=0, max=46), HTML(value='')))"
      ]
     },
     "metadata": {},
     "output_type": "display_data"
    },
    {
     "name": "stdout",
     "output_type": "stream",
     "text": [
      "\n",
      "Valid Acc  94.63315217391305\n"
     ]
    },
    {
     "data": {
      "application/vnd.jupyter.widget-view+json": {
       "model_id": "1545e38372274632b690791dccb1dcf2",
       "version_major": 2,
       "version_minor": 0
      },
      "text/plain": [
       "HBox(children=(IntProgress(value=0, max=182), HTML(value='')))"
      ]
     },
     "metadata": {},
     "output_type": "display_data"
    },
    {
     "name": "stdout",
     "output_type": "stream",
     "text": [
      "\n",
      "Epoch Loss:  0.35052639950107745\n",
      "Train Acc  96.2139423076923\n"
     ]
    },
    {
     "data": {
      "application/vnd.jupyter.widget-view+json": {
       "model_id": "c7d1d321d5f2462c8bdb95bb6d629f2d",
       "version_major": 2,
       "version_minor": 0
      },
      "text/plain": [
       "HBox(children=(IntProgress(value=0, max=46), HTML(value='')))"
      ]
     },
     "metadata": {},
     "output_type": "display_data"
    },
    {
     "name": "stdout",
     "output_type": "stream",
     "text": [
      "\n",
      "Valid Acc  94.36141304347827\n"
     ]
    },
    {
     "data": {
      "application/vnd.jupyter.widget-view+json": {
       "model_id": "904d90eed09247e9860419b7a08f9e70",
       "version_major": 2,
       "version_minor": 0
      },
      "text/plain": [
       "HBox(children=(IntProgress(value=0, max=182), HTML(value='')))"
      ]
     },
     "metadata": {},
     "output_type": "display_data"
    },
    {
     "name": "stdout",
     "output_type": "stream",
     "text": [
      "\n",
      "Epoch Loss:  0.3509544360113668\n",
      "Train Acc  96.03365384615384\n"
     ]
    },
    {
     "data": {
      "application/vnd.jupyter.widget-view+json": {
       "model_id": "9396c27feea54ffe94145a28da7f89e5",
       "version_major": 2,
       "version_minor": 0
      },
      "text/plain": [
       "HBox(children=(IntProgress(value=0, max=46), HTML(value='')))"
      ]
     },
     "metadata": {},
     "output_type": "display_data"
    },
    {
     "name": "stdout",
     "output_type": "stream",
     "text": [
      "\n",
      "Valid Acc  94.80298913043478\n"
     ]
    },
    {
     "data": {
      "application/vnd.jupyter.widget-view+json": {
       "model_id": "e6dbe8dcc3ea48a187a79c813808ac2d",
       "version_major": 2,
       "version_minor": 0
      },
      "text/plain": [
       "HBox(children=(IntProgress(value=0, max=182), HTML(value='')))"
      ]
     },
     "metadata": {},
     "output_type": "display_data"
    },
    {
     "name": "stdout",
     "output_type": "stream",
     "text": [
      "\n",
      "Epoch Loss:  0.3509119832581216\n",
      "Train Acc  96.03365384615384\n"
     ]
    },
    {
     "data": {
      "application/vnd.jupyter.widget-view+json": {
       "model_id": "8cfd8c0916c1465b990b4066a7e78579",
       "version_major": 2,
       "version_minor": 0
      },
      "text/plain": [
       "HBox(children=(IntProgress(value=0, max=46), HTML(value='')))"
      ]
     },
     "metadata": {},
     "output_type": "display_data"
    },
    {
     "name": "stdout",
     "output_type": "stream",
     "text": [
      "\n",
      "Valid Acc  94.97282608695652\n"
     ]
    },
    {
     "data": {
      "application/vnd.jupyter.widget-view+json": {
       "model_id": "be5aaa31bde346a6b7331e06d958da04",
       "version_major": 2,
       "version_minor": 0
      },
      "text/plain": [
       "HBox(children=(IntProgress(value=0, max=182), HTML(value='')))"
      ]
     },
     "metadata": {},
     "output_type": "display_data"
    },
    {
     "name": "stdout",
     "output_type": "stream",
     "text": [
      "\n",
      "Epoch Loss:  0.34974957904317877\n",
      "Train Acc  96.23111263736264\n"
     ]
    },
    {
     "data": {
      "application/vnd.jupyter.widget-view+json": {
       "model_id": "4eaa0573e4184a1a8fbd4e1ad84b417b",
       "version_major": 2,
       "version_minor": 0
      },
      "text/plain": [
       "HBox(children=(IntProgress(value=0, max=46), HTML(value='')))"
      ]
     },
     "metadata": {},
     "output_type": "display_data"
    },
    {
     "name": "stdout",
     "output_type": "stream",
     "text": [
      "\n",
      "Valid Acc  94.80298913043478\n"
     ]
    },
    {
     "data": {
      "application/vnd.jupyter.widget-view+json": {
       "model_id": "ae7c1497886347a6a7bd298e6ed0d659",
       "version_major": 2,
       "version_minor": 0
      },
      "text/plain": [
       "HBox(children=(IntProgress(value=0, max=182), HTML(value='')))"
      ]
     },
     "metadata": {},
     "output_type": "display_data"
    },
    {
     "name": "stdout",
     "output_type": "stream",
     "text": [
      "\n",
      "Epoch Loss:  0.3511373313901189\n",
      "Train Acc  96.02506868131869\n"
     ]
    },
    {
     "data": {
      "application/vnd.jupyter.widget-view+json": {
       "model_id": "e9928d588c77416d8cbc32ba0e92edce",
       "version_major": 2,
       "version_minor": 0
      },
      "text/plain": [
       "HBox(children=(IntProgress(value=0, max=46), HTML(value='')))"
      ]
     },
     "metadata": {},
     "output_type": "display_data"
    },
    {
     "name": "stdout",
     "output_type": "stream",
     "text": [
      "\n",
      "Valid Acc  95.00679347826087\n"
     ]
    },
    {
     "data": {
      "application/vnd.jupyter.widget-view+json": {
       "model_id": "31ee78f151534e40864870dc7e11078d",
       "version_major": 2,
       "version_minor": 0
      },
      "text/plain": [
       "HBox(children=(IntProgress(value=0, max=182), HTML(value='')))"
      ]
     },
     "metadata": {},
     "output_type": "display_data"
    },
    {
     "name": "stdout",
     "output_type": "stream",
     "text": [
      "\n",
      "Epoch Loss:  0.3508000100379462\n",
      "Train Acc  96.04223901098901\n"
     ]
    },
    {
     "data": {
      "application/vnd.jupyter.widget-view+json": {
       "model_id": "ba7ce2e66c66480b8f2171aa8551840d",
       "version_major": 2,
       "version_minor": 0
      },
      "text/plain": [
       "HBox(children=(IntProgress(value=0, max=46), HTML(value='')))"
      ]
     },
     "metadata": {},
     "output_type": "display_data"
    },
    {
     "name": "stdout",
     "output_type": "stream",
     "text": [
      "\n",
      "Valid Acc  94.63315217391305\n"
     ]
    },
    {
     "data": {
      "application/vnd.jupyter.widget-view+json": {
       "model_id": "dff26721ed104d77839421c98c5ce598",
       "version_major": 2,
       "version_minor": 0
      },
      "text/plain": [
       "HBox(children=(IntProgress(value=0, max=182), HTML(value='')))"
      ]
     },
     "metadata": {},
     "output_type": "display_data"
    },
    {
     "name": "stdout",
     "output_type": "stream",
     "text": [
      "\n",
      "Epoch Loss:  0.34991111156049665\n",
      "Train Acc  96.20535714285714\n"
     ]
    },
    {
     "data": {
      "application/vnd.jupyter.widget-view+json": {
       "model_id": "2a7ea5e33736447ca134b2a452503a52",
       "version_major": 2,
       "version_minor": 0
      },
      "text/plain": [
       "HBox(children=(IntProgress(value=0, max=46), HTML(value='')))"
      ]
     },
     "metadata": {},
     "output_type": "display_data"
    },
    {
     "name": "stdout",
     "output_type": "stream",
     "text": [
      "\n",
      "Valid Acc  94.70108695652173\n"
     ]
    },
    {
     "data": {
      "application/vnd.jupyter.widget-view+json": {
       "model_id": "f259c27915124370815518835633b777",
       "version_major": 2,
       "version_minor": 0
      },
      "text/plain": [
       "HBox(children=(IntProgress(value=0, max=182), HTML(value='')))"
      ]
     },
     "metadata": {},
     "output_type": "display_data"
    },
    {
     "name": "stdout",
     "output_type": "stream",
     "text": [
      "\n",
      "Epoch Loss:  0.34910308856230515\n",
      "Train Acc  96.30837912087912\n"
     ]
    },
    {
     "data": {
      "application/vnd.jupyter.widget-view+json": {
       "model_id": "c818d712d80f46a3978c6187acb24b35",
       "version_major": 2,
       "version_minor": 0
      },
      "text/plain": [
       "HBox(children=(IntProgress(value=0, max=46), HTML(value='')))"
      ]
     },
     "metadata": {},
     "output_type": "display_data"
    },
    {
     "name": "stdout",
     "output_type": "stream",
     "text": [
      "\n",
      "Valid Acc  95.2445652173913\n"
     ]
    },
    {
     "data": {
      "application/vnd.jupyter.widget-view+json": {
       "model_id": "673bc389dd484723b5fb377d7ca74ba9",
       "version_major": 2,
       "version_minor": 0
      },
      "text/plain": [
       "HBox(children=(IntProgress(value=0, max=182), HTML(value='')))"
      ]
     },
     "metadata": {},
     "output_type": "display_data"
    },
    {
     "name": "stdout",
     "output_type": "stream",
     "text": [
      "\n",
      "Epoch Loss:  0.35008164781790513\n",
      "Train Acc  96.07657967032966\n"
     ]
    },
    {
     "data": {
      "application/vnd.jupyter.widget-view+json": {
       "model_id": "9ca7e0bf56844d6da008f13c34254a18",
       "version_major": 2,
       "version_minor": 0
      },
      "text/plain": [
       "HBox(children=(IntProgress(value=0, max=46), HTML(value='')))"
      ]
     },
     "metadata": {},
     "output_type": "display_data"
    },
    {
     "name": "stdout",
     "output_type": "stream",
     "text": [
      "\n",
      "Valid Acc  95.00679347826087\n"
     ]
    },
    {
     "data": {
      "application/vnd.jupyter.widget-view+json": {
       "model_id": "edaa48b84f6b4971b71b0eeeeeb917a6",
       "version_major": 2,
       "version_minor": 0
      },
      "text/plain": [
       "HBox(children=(IntProgress(value=0, max=182), HTML(value='')))"
      ]
     },
     "metadata": {},
     "output_type": "display_data"
    },
    {
     "name": "stdout",
     "output_type": "stream",
     "text": [
      "\n",
      "Epoch Loss:  0.35046416717571216\n",
      "Train Acc  96.16243131868131\n"
     ]
    },
    {
     "data": {
      "application/vnd.jupyter.widget-view+json": {
       "model_id": "66388f2be93e465b8a8d908551063c8b",
       "version_major": 2,
       "version_minor": 0
      },
      "text/plain": [
       "HBox(children=(IntProgress(value=0, max=46), HTML(value='')))"
      ]
     },
     "metadata": {},
     "output_type": "display_data"
    },
    {
     "name": "stdout",
     "output_type": "stream",
     "text": [
      "\n",
      "Valid Acc  95.68614130434783\n"
     ]
    },
    {
     "data": {
      "application/vnd.jupyter.widget-view+json": {
       "model_id": "f3251c616b814ced93ae9557c2026a51",
       "version_major": 2,
       "version_minor": 0
      },
      "text/plain": [
       "HBox(children=(IntProgress(value=0, max=182), HTML(value='')))"
      ]
     },
     "metadata": {},
     "output_type": "display_data"
    },
    {
     "name": "stdout",
     "output_type": "stream",
     "text": [
      "\n",
      "Epoch Loss:  0.3468289909126994\n",
      "Train Acc  96.60027472527473\n"
     ]
    },
    {
     "data": {
      "application/vnd.jupyter.widget-view+json": {
       "model_id": "9275a429176c46b29047fbdb5455f04f",
       "version_major": 2,
       "version_minor": 0
      },
      "text/plain": [
       "HBox(children=(IntProgress(value=0, max=46), HTML(value='')))"
      ]
     },
     "metadata": {},
     "output_type": "display_data"
    },
    {
     "name": "stdout",
     "output_type": "stream",
     "text": [
      "\n",
      "Valid Acc  94.97282608695652\n"
     ]
    },
    {
     "data": {
      "application/vnd.jupyter.widget-view+json": {
       "model_id": "d9b6db8c7ef5464a9f45e3400ddc5eab",
       "version_major": 2,
       "version_minor": 0
      },
      "text/plain": [
       "HBox(children=(IntProgress(value=0, max=182), HTML(value='')))"
      ]
     },
     "metadata": {},
     "output_type": "display_data"
    },
    {
     "name": "stdout",
     "output_type": "stream",
     "text": [
      "\n",
      "Epoch Loss:  0.3482083388409772\n",
      "Train Acc  96.32554945054945\n"
     ]
    },
    {
     "data": {
      "application/vnd.jupyter.widget-view+json": {
       "model_id": "9ba9f0ccba554b43a1a6817ff64f3c91",
       "version_major": 2,
       "version_minor": 0
      },
      "text/plain": [
       "HBox(children=(IntProgress(value=0, max=46), HTML(value='')))"
      ]
     },
     "metadata": {},
     "output_type": "display_data"
    },
    {
     "name": "stdout",
     "output_type": "stream",
     "text": [
      "\n",
      "Valid Acc  94.90489130434783\n"
     ]
    },
    {
     "data": {
      "application/vnd.jupyter.widget-view+json": {
       "model_id": "0513a87d537e4aac9336bce5dd8db613",
       "version_major": 2,
       "version_minor": 0
      },
      "text/plain": [
       "HBox(children=(IntProgress(value=0, max=182), HTML(value='')))"
      ]
     },
     "metadata": {},
     "output_type": "display_data"
    },
    {
     "name": "stdout",
     "output_type": "stream",
     "text": [
      "\n",
      "Epoch Loss:  0.35042308287306145\n",
      "Train Acc  96.17101648351648\n"
     ]
    },
    {
     "data": {
      "application/vnd.jupyter.widget-view+json": {
       "model_id": "1a480282bc4c471384edf7de4748946f",
       "version_major": 2,
       "version_minor": 0
      },
      "text/plain": [
       "HBox(children=(IntProgress(value=0, max=46), HTML(value='')))"
      ]
     },
     "metadata": {},
     "output_type": "display_data"
    },
    {
     "name": "stdout",
     "output_type": "stream",
     "text": [
      "\n",
      "Valid Acc  94.80298913043478\n"
     ]
    },
    {
     "data": {
      "application/vnd.jupyter.widget-view+json": {
       "model_id": "82abe79bc3414be48f977d3a07c74422",
       "version_major": 2,
       "version_minor": 0
      },
      "text/plain": [
       "HBox(children=(IntProgress(value=0, max=182), HTML(value='')))"
      ]
     },
     "metadata": {},
     "output_type": "display_data"
    },
    {
     "name": "stdout",
     "output_type": "stream",
     "text": [
      "\n",
      "Epoch Loss:  0.34774204302620104\n",
      "Train Acc  96.46291208791209\n"
     ]
    },
    {
     "data": {
      "application/vnd.jupyter.widget-view+json": {
       "model_id": "398313c58f9142339c56c3c103ce543c",
       "version_major": 2,
       "version_minor": 0
      },
      "text/plain": [
       "HBox(children=(IntProgress(value=0, max=46), HTML(value='')))"
      ]
     },
     "metadata": {},
     "output_type": "display_data"
    },
    {
     "name": "stdout",
     "output_type": "stream",
     "text": [
      "\n",
      "Valid Acc  95.65217391304348\n"
     ]
    },
    {
     "data": {
      "application/vnd.jupyter.widget-view+json": {
       "model_id": "0b5a827568364780a336027ef7bb01c5",
       "version_major": 2,
       "version_minor": 0
      },
      "text/plain": [
       "HBox(children=(IntProgress(value=0, max=182), HTML(value='')))"
      ]
     },
     "metadata": {},
     "output_type": "display_data"
    },
    {
     "name": "stdout",
     "output_type": "stream",
     "text": [
      "\n",
      "Epoch Loss:  0.34832229850056406\n",
      "Train Acc  96.30837912087912\n"
     ]
    },
    {
     "data": {
      "application/vnd.jupyter.widget-view+json": {
       "model_id": "dcb2bcfae6074c76b3fbd45b3e52e264",
       "version_major": 2,
       "version_minor": 0
      },
      "text/plain": [
       "HBox(children=(IntProgress(value=0, max=46), HTML(value='')))"
      ]
     },
     "metadata": {},
     "output_type": "display_data"
    },
    {
     "name": "stdout",
     "output_type": "stream",
     "text": [
      "\n",
      "Valid Acc  94.93885869565217\n"
     ]
    },
    {
     "data": {
      "application/vnd.jupyter.widget-view+json": {
       "model_id": "8059579eae6f4907835fdb34cf4fd914",
       "version_major": 2,
       "version_minor": 0
      },
      "text/plain": [
       "HBox(children=(IntProgress(value=0, max=182), HTML(value='')))"
      ]
     },
     "metadata": {},
     "output_type": "display_data"
    },
    {
     "name": "stdout",
     "output_type": "stream",
     "text": [
      "\n",
      "Epoch Loss:  0.3488758339004202\n",
      "Train Acc  96.2654532967033\n"
     ]
    },
    {
     "data": {
      "application/vnd.jupyter.widget-view+json": {
       "model_id": "67cfea4a0bb147e18a71202d31f90b19",
       "version_major": 2,
       "version_minor": 0
      },
      "text/plain": [
       "HBox(children=(IntProgress(value=0, max=46), HTML(value='')))"
      ]
     },
     "metadata": {},
     "output_type": "display_data"
    },
    {
     "name": "stdout",
     "output_type": "stream",
     "text": [
      "\n",
      "Valid Acc  94.97282608695652\n"
     ]
    },
    {
     "data": {
      "application/vnd.jupyter.widget-view+json": {
       "model_id": "f408f9bd1ea94221ac53ab1927ebef84",
       "version_major": 2,
       "version_minor": 0
      },
      "text/plain": [
       "HBox(children=(IntProgress(value=0, max=182), HTML(value='')))"
      ]
     },
     "metadata": {},
     "output_type": "display_data"
    },
    {
     "name": "stdout",
     "output_type": "stream",
     "text": [
      "\n",
      "Epoch Loss:  0.34891019139316054\n",
      "Train Acc  96.20535714285714\n"
     ]
    },
    {
     "data": {
      "application/vnd.jupyter.widget-view+json": {
       "model_id": "8b74688e78274abab01515d499c74cea",
       "version_major": 2,
       "version_minor": 0
      },
      "text/plain": [
       "HBox(children=(IntProgress(value=0, max=46), HTML(value='')))"
      ]
     },
     "metadata": {},
     "output_type": "display_data"
    },
    {
     "name": "stdout",
     "output_type": "stream",
     "text": [
      "\n",
      "Valid Acc  94.7350543478261\n"
     ]
    },
    {
     "data": {
      "application/vnd.jupyter.widget-view+json": {
       "model_id": "9cafcd2078ef40dcb7c46132d7d558a2",
       "version_major": 2,
       "version_minor": 0
      },
      "text/plain": [
       "HBox(children=(IntProgress(value=0, max=182), HTML(value='')))"
      ]
     },
     "metadata": {},
     "output_type": "display_data"
    },
    {
     "name": "stdout",
     "output_type": "stream",
     "text": [
      "\n",
      "Epoch Loss:  0.3489055995430265\n",
      "Train Acc  96.18818681318682\n"
     ]
    },
    {
     "data": {
      "application/vnd.jupyter.widget-view+json": {
       "model_id": "7fe98f892acc42b898d577c5bb1bc627",
       "version_major": 2,
       "version_minor": 0
      },
      "text/plain": [
       "HBox(children=(IntProgress(value=0, max=46), HTML(value='')))"
      ]
     },
     "metadata": {},
     "output_type": "display_data"
    },
    {
     "name": "stdout",
     "output_type": "stream",
     "text": [
      "\n",
      "Valid Acc  94.70108695652173\n"
     ]
    },
    {
     "data": {
      "application/vnd.jupyter.widget-view+json": {
       "model_id": "bd806f3776dd4ab59a83953b29d04c53",
       "version_major": 2,
       "version_minor": 0
      },
      "text/plain": [
       "HBox(children=(IntProgress(value=0, max=182), HTML(value='')))"
      ]
     },
     "metadata": {},
     "output_type": "display_data"
    },
    {
     "name": "stdout",
     "output_type": "stream",
     "text": [
      "\n",
      "Epoch Loss:  0.34937289619183803\n",
      "Train Acc  96.2396978021978\n"
     ]
    },
    {
     "data": {
      "application/vnd.jupyter.widget-view+json": {
       "model_id": "f384b8a057a04e908ff361f78789d734",
       "version_major": 2,
       "version_minor": 0
      },
      "text/plain": [
       "HBox(children=(IntProgress(value=0, max=46), HTML(value='')))"
      ]
     },
     "metadata": {},
     "output_type": "display_data"
    },
    {
     "name": "stdout",
     "output_type": "stream",
     "text": [
      "\n",
      "Valid Acc  94.63315217391305\n"
     ]
    },
    {
     "data": {
      "application/vnd.jupyter.widget-view+json": {
       "model_id": "1c830429a0d348cdaab20df3620baac7",
       "version_major": 2,
       "version_minor": 0
      },
      "text/plain": [
       "HBox(children=(IntProgress(value=0, max=182), HTML(value='')))"
      ]
     },
     "metadata": {},
     "output_type": "display_data"
    },
    {
     "name": "stdout",
     "output_type": "stream",
     "text": [
      "\n",
      "Epoch Loss:  0.34978864661284853\n",
      "Train Acc  96.11092032967034\n"
     ]
    },
    {
     "data": {
      "application/vnd.jupyter.widget-view+json": {
       "model_id": "936b971539a440638f82c8a25cc5ab72",
       "version_major": 2,
       "version_minor": 0
      },
      "text/plain": [
       "HBox(children=(IntProgress(value=0, max=46), HTML(value='')))"
      ]
     },
     "metadata": {},
     "output_type": "display_data"
    },
    {
     "name": "stdout",
     "output_type": "stream",
     "text": [
      "\n",
      "Valid Acc  95.07472826086956\n"
     ]
    },
    {
     "data": {
      "application/vnd.jupyter.widget-view+json": {
       "model_id": "26e8bcd4c35047cdad5b56dd4dcf67fa",
       "version_major": 2,
       "version_minor": 0
      },
      "text/plain": [
       "HBox(children=(IntProgress(value=0, max=182), HTML(value='')))"
      ]
     },
     "metadata": {},
     "output_type": "display_data"
    }
   ],
   "source": [
    "epoch_progress_bar = tqdm.tqdm(range(0, 500))\n",
    "\n",
    "for epoch in epoch_progress_bar:\n",
    "    avg_epoch_loss = 0\n",
    "    data_progress_bar = tqdm.tqdm(Cough_Train_Dataloader)\n",
    "    positives=0\n",
    "    for data, targets in data_progress_bar:\n",
    "        data = data.float().to(device)\n",
    "        targets = targets.long().to(device)\n",
    "        s\n",
    "\n",
    "        optimizer.zero_grad()\n",
    "        outputs = Model(data)\n",
    "        \n",
    "\n",
    "        loss = criterion(outputs, targets)\n",
    "        loss.backward()\n",
    "        optimizer.step()\n",
    "\n",
    "        loss_val = loss.item()\n",
    "        avg_epoch_loss+=loss_val\n",
    "        data_progress_bar.set_description(desc=\"Loss: \"+str(loss_val))\n",
    "        \n",
    "        outputs = np.argmax(outputs.detach().cpu().numpy(), axis=1)\n",
    "        targets = targets.cpu().numpy()\n",
    "        positives += np.sum(targets==outputs)\n",
    "    \n",
    "    print('Epoch Loss: ', str(avg_epoch_loss/len(Cough_Train_Dataloader)))\n",
    "    print('Train Acc ', str(positives*100/(len(Cough_Train_Dataloader)*mini_batch_size)))\n",
    "    \n",
    "    # Validation\n",
    "    data_test_progress_bar = tqdm.tqdm(Cough_Test_Dataloader)\n",
    "    positives=0\n",
    "    for data, targets in data_test_progress_bar:\n",
    "        data = data.float().to(device)\n",
    "        targets = targets.numpy()\n",
    "        outputs = Model(data)\n",
    "        outputs = np.argmax(outputs.detach().cpu().numpy(), axis=1)\n",
    "        positives += np.sum(targets==outputs)\n",
    "        \n",
    "    print('Valid Acc ', str(positives*100/(len(Cough_Test_Dataloader)*mini_batch_size)))"
   ]
  },
  {
   "cell_type": "code",
   "execution_count": 145,
   "metadata": {
    "ExecuteTime": {
     "end_time": "2021-02-08T19:07:00.831804Z",
     "start_time": "2021-02-08T19:07:00.741830Z"
    }
   },
   "outputs": [],
   "source": [
    "torch.save(Model.state_dict(), \"model_weights/Cough_Data_1D_conv_global_pool_deep_batchnorm_15_epoch_95Acc.stDict\")"
   ]
  },
  {
   "cell_type": "code",
   "execution_count": 146,
   "metadata": {
    "ExecuteTime": {
     "end_time": "2021-02-08T19:07:29.478619Z",
     "start_time": "2021-02-08T19:07:28.077072Z"
    }
   },
   "outputs": [
    {
     "name": "stdout",
     "output_type": "stream",
     "text": [
      "0.984375 63\n"
     ]
    },
    {
     "data": {
      "text/plain": [
       "[(tensor(0), 0, True),\n",
       " (tensor(0), 0, True),\n",
       " (tensor(0), 0, True),\n",
       " (tensor(1), 1, True),\n",
       " (tensor(0), 0, True),\n",
       " (tensor(1), 1, True),\n",
       " (tensor(0), 0, True),\n",
       " (tensor(1), 1, True),\n",
       " (tensor(1), 1, True),\n",
       " (tensor(1), 1, True),\n",
       " (tensor(1), 1, True),\n",
       " (tensor(1), 1, True),\n",
       " (tensor(1), 1, True),\n",
       " (tensor(1), 1, True),\n",
       " (tensor(1), 1, True),\n",
       " (tensor(0), 0, True),\n",
       " (tensor(1), 1, True),\n",
       " (tensor(0), 0, True),\n",
       " (tensor(0), 0, True),\n",
       " (tensor(0), 0, True),\n",
       " (tensor(0), 0, True),\n",
       " (tensor(1), 1, True),\n",
       " (tensor(0), 0, True),\n",
       " (tensor(0), 0, True),\n",
       " (tensor(0), 0, True),\n",
       " (tensor(1), 1, True),\n",
       " (tensor(1), 1, True),\n",
       " (tensor(1), 1, True),\n",
       " (tensor(0), 0, True),\n",
       " (tensor(1), 1, True),\n",
       " (tensor(0), 0, True),\n",
       " (tensor(0), 1, False),\n",
       " (tensor(1), 1, True),\n",
       " (tensor(0), 0, True),\n",
       " (tensor(1), 1, True),\n",
       " (tensor(1), 1, True),\n",
       " (tensor(0), 0, True),\n",
       " (tensor(0), 0, True),\n",
       " (tensor(1), 1, True),\n",
       " (tensor(0), 0, True),\n",
       " (tensor(0), 0, True),\n",
       " (tensor(1), 1, True),\n",
       " (tensor(0), 0, True),\n",
       " (tensor(0), 0, True),\n",
       " (tensor(0), 0, True),\n",
       " (tensor(0), 0, True),\n",
       " (tensor(0), 0, True),\n",
       " (tensor(1), 1, True),\n",
       " (tensor(1), 1, True),\n",
       " (tensor(1), 1, True),\n",
       " (tensor(1), 1, True),\n",
       " (tensor(0), 0, True),\n",
       " (tensor(1), 1, True),\n",
       " (tensor(0), 0, True),\n",
       " (tensor(1), 1, True),\n",
       " (tensor(1), 1, True),\n",
       " (tensor(0), 0, True),\n",
       " (tensor(0), 0, True),\n",
       " (tensor(0), 0, True),\n",
       " (tensor(0), 0, True),\n",
       " (tensor(0), 0, True),\n",
       " (tensor(0), 0, True),\n",
       " (tensor(1), 1, True),\n",
       " (tensor(0), 0, True)]"
      ]
     },
     "execution_count": 146,
     "metadata": {},
     "output_type": "execute_result"
    }
   ],
   "source": [
    "i=0\n",
    "for data in Cough_Train_Dataloader:\n",
    "    if i==2:\n",
    "        O = Model(data[0].float().to(device))\n",
    "        A = data[1]\n",
    "        #print(data[1])\n",
    "        break\n",
    "    i+=1\n",
    "O = O.detach().cpu().numpy()\n",
    "K = np.argmax(O, axis=1)==A.numpy()\n",
    "print(np.sum(K)/len(K), np.sum(K))\n",
    "list(zip(A, np.argmax(O, axis=1), K))"
   ]
  },
  {
   "cell_type": "code",
   "execution_count": null,
   "metadata": {},
   "outputs": [],
   "source": []
  }
 ],
 "metadata": {
  "kernelspec": {
   "display_name": "Python 3",
   "language": "python",
   "name": "python3"
  },
  "language_info": {
   "codemirror_mode": {
    "name": "ipython",
    "version": 3
   },
   "file_extension": ".py",
   "mimetype": "text/x-python",
   "name": "python",
   "nbconvert_exporter": "python",
   "pygments_lexer": "ipython3",
   "version": "3.7.4"
  },
  "toc": {
   "base_numbering": 1,
   "nav_menu": {},
   "number_sections": true,
   "sideBar": true,
   "skip_h1_title": false,
   "title_cell": "Table of Contents",
   "title_sidebar": "Contents",
   "toc_cell": false,
   "toc_position": {},
   "toc_section_display": true,
   "toc_window_display": false
  },
  "varInspector": {
   "cols": {
    "lenName": 16,
    "lenType": 16,
    "lenVar": 40
   },
   "kernels_config": {
    "python": {
     "delete_cmd_postfix": "",
     "delete_cmd_prefix": "del ",
     "library": "var_list.py",
     "varRefreshCmd": "print(var_dic_list())"
    },
    "r": {
     "delete_cmd_postfix": ") ",
     "delete_cmd_prefix": "rm(",
     "library": "var_list.r",
     "varRefreshCmd": "cat(var_dic_list()) "
    }
   },
   "types_to_exclude": [
    "module",
    "function",
    "builtin_function_or_method",
    "instance",
    "_Feature"
   ],
   "window_display": false
  }
 },
 "nbformat": 4,
 "nbformat_minor": 2
}
